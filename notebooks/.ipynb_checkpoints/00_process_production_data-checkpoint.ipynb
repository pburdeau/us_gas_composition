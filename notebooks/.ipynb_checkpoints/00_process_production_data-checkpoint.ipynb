{
 "cells": [
  {
   "cell_type": "code",
   "execution_count": null,
   "metadata": {
    "colab": {
     "base_uri": "https://localhost:8080/"
    },
    "executionInfo": {
     "elapsed": 21100,
     "status": "ok",
     "timestamp": 1737744995350,
     "user": {
      "displayName": "Philippine Burdeau",
      "userId": "04256222199494352032"
     },
     "user_tz": 480
    },
    "id": "2TyACN8V8khB",
    "outputId": "ad273491-4c49-4c1a-e6ad-7a417e9cc735"
   },
   "outputs": [
    {
     "name": "stdout",
     "output_type": "stream",
     "text": [
      "Mounted at /content/drive\n"
     ]
    }
   ],
   "source": [
    "# Mount Google Drive to access the required folders\n",
    "from google.colab import drive\n",
    "import os\n",
    "import pandas as pd\n",
    "import geopandas as gpd\n",
    "from shapely.geometry import Point\n",
    "from tqdm import tqdm\n",
    "\n",
    "# Mount the Google Drive\n",
    "drive.mount('/content/drive', force_remount=True)"
   ]
  },
  {
   "cell_type": "code",
   "execution_count": null,
   "metadata": {
    "colab": {
     "base_uri": "https://localhost:8080/"
    },
    "executionInfo": {
     "elapsed": 122,
     "status": "ok",
     "timestamp": 1737744999449,
     "user": {
      "displayName": "Philippine Burdeau",
      "userId": "04256222199494352032"
     },
     "user_tz": 480
    },
    "id": "k72gt-gqGceu",
    "outputId": "d1a0a4ac-33b6-4282-f742-5a1a04fe71b4"
   },
   "outputs": [
    {
     "name": "stdout",
     "output_type": "stream",
     "text": [
      "Base folder: /content/drive/Shared drives/Enverus US\n",
      "Wells production folder: /content/drive/Shared drives/Enverus US/Processed Data/Well Monthly Production with useful columns\n",
      "Wells headers folder: /content/drive/Shared drives/Enverus US/Processed Data/Well Headers with useful columns\n",
      "Output folder: /content/drive/Shared drives/Enverus US/Processed Data\n"
     ]
    }
   ],
   "source": [
    "base_folder = '/content/drive/Shared drives/Enverus US'\n",
    "\n",
    "output_folder = os.path.join(base_folder, 'Processed Data')\n",
    "raw_wells_production_folder = os.path.join(base_folder, 'Well Monthly Production - Anadarko')\n",
    "raw_wells_headers_folder = os.path.join(base_folder, 'Well Headers - Anadarko')\n",
    "wells_production_folder = os.path.join(output_folder, 'Well Monthly Production with useful columns - Anadarko')\n",
    "wells_headers_folder = os.path.join(output_folder, 'Well Headers with useful columns - Anadarko')\n",
    "\n",
    "# Create the output directory if it doesn't exist\n",
    "os.makedirs(output_folder, exist_ok=True)\n",
    "\n",
    "print(f\"Base folder: {base_folder}\")\n",
    "print(f\"Wells production folder: {wells_production_folder}\")\n",
    "print(f\"Wells headers folder: {wells_headers_folder}\")\n",
    "print(f\"Output folder: {output_folder}\")"
   ]
  },
  {
   "cell_type": "code",
   "execution_count": null,
   "metadata": {
    "colab": {
     "base_uri": "https://localhost:8080/"
    },
    "executionInfo": {
     "elapsed": 3668730,
     "status": "ok",
     "timestamp": 1737502691942,
     "user": {
      "displayName": "Philippine Burdeau",
      "userId": "04256222199494352032"
     },
     "user_tz": 480
    },
    "id": "92tHQjhqJIea",
    "outputId": "fb305b72-8c09-49fc-988d-a28437cedb3d"
   },
   "outputs": [
    {
     "name": "stderr",
     "output_type": "stream",
     "text": [
      "\r",
      "Processing CSV files:   0%|          | 0/27 [00:00<?, ?it/s]"
     ]
    },
    {
     "name": "stdout",
     "output_type": "stream",
     "text": [
      "Processing /content/drive/Shared drives/Enverus US/Well Monthly Production/NM-NY Well Monthly Production.CSV\n"
     ]
    },
    {
     "name": "stderr",
     "output_type": "stream",
     "text": [
      "\r",
      "Processing CSV files:   4%|▎         | 1/27 [03:57<1:42:57, 237.61s/it]"
     ]
    },
    {
     "name": "stdout",
     "output_type": "stream",
     "text": [
      "Processing /content/drive/Shared drives/Enverus US/Well Monthly Production/OH-1 Well Monthly Production.CSV\n"
     ]
    },
    {
     "name": "stderr",
     "output_type": "stream",
     "text": [
      "\r",
      "Processing CSV files:   7%|▋         | 2/27 [06:25<1:16:59, 184.79s/it]"
     ]
    },
    {
     "name": "stdout",
     "output_type": "stream",
     "text": [
      "Processing /content/drive/Shared drives/Enverus US/Well Monthly Production/TX-3 Well Monthly Production.CSV\n"
     ]
    },
    {
     "name": "stderr",
     "output_type": "stream",
     "text": [
      "<ipython-input-4-46f8385b27d7>:14: DtypeWarning: Columns (0) have mixed types. Specify dtype option on import or set low_memory=False.\n",
      "  processed_df = pd.read_csv(\n",
      "Processing CSV files:  11%|█         | 3/27 [09:59<1:19:15, 198.15s/it]"
     ]
    },
    {
     "name": "stdout",
     "output_type": "stream",
     "text": [
      "Processing /content/drive/Shared drives/Enverus US/Well Monthly Production/TX-6 Well Monthly Production.CSV\n"
     ]
    },
    {
     "name": "stderr",
     "output_type": "stream",
     "text": [
      "\r",
      "Processing CSV files:  15%|█▍        | 4/27 [13:09<1:14:45, 195.04s/it]"
     ]
    },
    {
     "name": "stdout",
     "output_type": "stream",
     "text": [
      "Processing /content/drive/Shared drives/Enverus US/Well Monthly Production/TX-4 Well Monthly Production.CSV\n"
     ]
    },
    {
     "name": "stderr",
     "output_type": "stream",
     "text": [
      "\r",
      "Processing CSV files:  19%|█▊        | 5/27 [15:56<1:07:45, 184.79s/it]"
     ]
    },
    {
     "name": "stdout",
     "output_type": "stream",
     "text": [
      "Processing /content/drive/Shared drives/Enverus US/Well Monthly Production/LA-1 Well Monthly Production.CSV\n"
     ]
    },
    {
     "name": "stderr",
     "output_type": "stream",
     "text": [
      "\r",
      "Processing CSV files:  22%|██▏       | 6/27 [18:40<1:02:14, 177.83s/it]"
     ]
    },
    {
     "name": "stdout",
     "output_type": "stream",
     "text": [
      "Processing /content/drive/Shared drives/Enverus US/Well Monthly Production/TX-7 Well Monthly Production.CSV\n"
     ]
    },
    {
     "name": "stderr",
     "output_type": "stream",
     "text": [
      "\r",
      "Processing CSV files:  26%|██▌       | 7/27 [22:16<1:03:28, 190.40s/it]"
     ]
    },
    {
     "name": "stdout",
     "output_type": "stream",
     "text": [
      "Processing /content/drive/Shared drives/Enverus US/Well Monthly Production/TX-2 Well Monthly Production.CSV\n"
     ]
    },
    {
     "name": "stderr",
     "output_type": "stream",
     "text": [
      "\r",
      "Processing CSV files:  30%|██▉       | 8/27 [25:40<1:01:35, 194.50s/it]"
     ]
    },
    {
     "name": "stdout",
     "output_type": "stream",
     "text": [
      "Processing /content/drive/Shared drives/Enverus US/Well Monthly Production/OK-2 Well Monthly Production.CSV\n"
     ]
    },
    {
     "name": "stderr",
     "output_type": "stream",
     "text": [
      "\r",
      "Processing CSV files:  33%|███▎      | 9/27 [28:16<54:48, 182.69s/it]  "
     ]
    },
    {
     "name": "stdout",
     "output_type": "stream",
     "text": [
      "Processing /content/drive/Shared drives/Enverus US/Well Monthly Production/TX-1 Well Monthly Production.CSV\n"
     ]
    },
    {
     "name": "stderr",
     "output_type": "stream",
     "text": [
      "\r",
      "Processing CSV files:  37%|███▋      | 10/27 [31:26<52:20, 184.74s/it]"
     ]
    },
    {
     "name": "stdout",
     "output_type": "stream",
     "text": [
      "Processing /content/drive/Shared drives/Enverus US/Well Monthly Production/PA-1 Well Monthly Production.CSV\n"
     ]
    },
    {
     "name": "stderr",
     "output_type": "stream",
     "text": [
      "\r",
      "Processing CSV files:  41%|████      | 11/27 [34:03<47:00, 176.27s/it]"
     ]
    },
    {
     "name": "stdout",
     "output_type": "stream",
     "text": [
      "Processing /content/drive/Shared drives/Enverus US/Well Monthly Production/MI-PA-2 Well Monthly Production.CSV\n"
     ]
    },
    {
     "name": "stderr",
     "output_type": "stream",
     "text": [
      "\r",
      "Processing CSV files:  44%|████▍     | 12/27 [34:36<33:10, 132.68s/it]"
     ]
    },
    {
     "name": "stdout",
     "output_type": "stream",
     "text": [
      "Processing /content/drive/Shared drives/Enverus US/Well Monthly Production/CA_1 Well Monthly Production.CSV\n"
     ]
    },
    {
     "name": "stderr",
     "output_type": "stream",
     "text": [
      "\r",
      "Processing CSV files:  48%|████▊     | 13/27 [37:54<35:37, 152.65s/it]"
     ]
    },
    {
     "name": "stdout",
     "output_type": "stream",
     "text": [
      "Processing /content/drive/Shared drives/Enverus US/Well Monthly Production/IL-MS Well Monthly Production.CSV\n"
     ]
    },
    {
     "name": "stderr",
     "output_type": "stream",
     "text": [
      "\r",
      "Processing CSV files:  52%|█████▏    | 14/27 [38:15<24:24, 112.67s/it]"
     ]
    },
    {
     "name": "stdout",
     "output_type": "stream",
     "text": [
      "Processing /content/drive/Shared drives/Enverus US/Well Monthly Production/E-Coast Well Monthly Production.CSV\n"
     ]
    },
    {
     "name": "stderr",
     "output_type": "stream",
     "text": [
      "\r",
      "Processing CSV files:  56%|█████▌    | 15/27 [41:08<26:09, 130.81s/it]"
     ]
    },
    {
     "name": "stdout",
     "output_type": "stream",
     "text": [
      "Processing /content/drive/Shared drives/Enverus US/Well Monthly Production/E-Central Well Monthly Production.CSV\n"
     ]
    },
    {
     "name": "stderr",
     "output_type": "stream",
     "text": [
      "\r",
      "Processing CSV files:  59%|█████▉    | 16/27 [42:07<20:01, 109.24s/it]"
     ]
    },
    {
     "name": "stdout",
     "output_type": "stream",
     "text": [
      "Processing /content/drive/Shared drives/Enverus US/Well Monthly Production/W-Coast-N-Central Well Monthly Production.CSV\n"
     ]
    },
    {
     "name": "stderr",
     "output_type": "stream",
     "text": [
      "\r",
      "Processing CSV files:  63%|██████▎   | 17/27 [44:45<20:38, 123.87s/it]"
     ]
    },
    {
     "name": "stdout",
     "output_type": "stream",
     "text": [
      "Processing /content/drive/Shared drives/Enverus US/Well Monthly Production/Fed-Offshore Well Monthly Production.CSV\n"
     ]
    },
    {
     "name": "stderr",
     "output_type": "stream",
     "text": [
      "\r",
      "Processing CSV files:  67%|██████▋   | 18/27 [45:25<14:48, 98.71s/it] "
     ]
    },
    {
     "name": "stdout",
     "output_type": "stream",
     "text": [
      "Processing /content/drive/Shared drives/Enverus US/Well Monthly Production/OK-1 Well Monthly Production.CSV\n"
     ]
    },
    {
     "name": "stderr",
     "output_type": "stream",
     "text": [
      "\r",
      "Processing CSV files:  70%|███████   | 19/27 [47:16<13:40, 102.62s/it]"
     ]
    },
    {
     "name": "stdout",
     "output_type": "stream",
     "text": [
      "Processing /content/drive/Shared drives/Enverus US/Well Monthly Production/WY-OH-2 Well Monthly Production.CSV\n"
     ]
    },
    {
     "name": "stderr",
     "output_type": "stream",
     "text": [
      "\r",
      "Processing CSV files:  74%|███████▍  | 20/27 [49:20<12:42, 108.92s/it]"
     ]
    },
    {
     "name": "stdout",
     "output_type": "stream",
     "text": [
      "Processing /content/drive/Shared drives/Enverus US/Well Monthly Production/CO-LA-2-CA-2 Well Monthly Production.CSV\n"
     ]
    },
    {
     "name": "stderr",
     "output_type": "stream",
     "text": [
      "\r",
      "Processing CSV files:  78%|███████▊  | 21/27 [51:41<11:50, 118.39s/it]"
     ]
    },
    {
     "name": "stdout",
     "output_type": "stream",
     "text": [
      "Processing /content/drive/Shared drives/Enverus US/Well Monthly Production/TX-5 Well Monthly Production.CSV\n"
     ]
    },
    {
     "name": "stderr",
     "output_type": "stream",
     "text": [
      "\r",
      "Processing CSV files:  81%|████████▏ | 22/27 [55:46<13:02, 156.51s/it]"
     ]
    },
    {
     "name": "stdout",
     "output_type": "stream",
     "text": [
      "Processing /content/drive/Shared drives/Enverus US/Well Monthly Production/OK-3-TX-8 Well Monthly Production.CSV\n"
     ]
    },
    {
     "name": "stderr",
     "output_type": "stream",
     "text": [
      "\r",
      "Processing CSV files:  85%|████████▌ | 23/27 [59:06<11:18, 169.64s/it]"
     ]
    },
    {
     "name": "stdout",
     "output_type": "stream",
     "text": [
      "Processing /content/drive/Shared drives/Enverus US/Well Monthly Production/KS-2 Well Monthly Production.CSV\n"
     ]
    },
    {
     "name": "stderr",
     "output_type": "stream",
     "text": [
      "\r",
      "Processing CSV files:  89%|████████▉ | 24/27 [59:07<05:57, 119.06s/it]"
     ]
    },
    {
     "name": "stdout",
     "output_type": "stream",
     "text": [
      "Processing /content/drive/Shared drives/Enverus US/Well Monthly Production/KS-1 Well Monthly Production.CSV\n"
     ]
    },
    {
     "name": "stderr",
     "output_type": "stream",
     "text": [
      "\r",
      "Processing CSV files:  93%|█████████▎| 25/27 [59:08<02:47, 83.57s/it] "
     ]
    },
    {
     "name": "stdout",
     "output_type": "stream",
     "text": [
      "Processing /content/drive/Shared drives/Enverus US/Well Monthly Production/MI Producing Entity Monthly Production.CSV\n"
     ]
    },
    {
     "name": "stderr",
     "output_type": "stream",
     "text": [
      "\r",
      "Processing CSV files:  96%|█████████▋| 26/27 [59:22<01:02, 62.71s/it]"
     ]
    },
    {
     "name": "stdout",
     "output_type": "stream",
     "text": [
      "Processing /content/drive/Shared drives/Enverus US/Well Monthly Production/KS Producing Entity Monthly Production.CSV\n"
     ]
    },
    {
     "name": "stderr",
     "output_type": "stream",
     "text": [
      "Processing CSV files: 100%|██████████| 27/27 [1:01:08<00:00, 135.87s/it]"
     ]
    },
    {
     "name": "stdout",
     "output_type": "stream",
     "text": [
      "Processed files saved to: /content/drive/Shared drives/Enverus US/Processed Data/Well Monthly Production with useful columns\n"
     ]
    },
    {
     "name": "stderr",
     "output_type": "stream",
     "text": [
      "\n"
     ]
    }
   ],
   "source": [
    "# Step 1: Process raw production files\n",
    "\n",
    "# Create a folder for processed files\n",
    "os.makedirs(wells_production_folder, exist_ok=True)\n",
    "\n",
    "# Filter files that match the specific names\n",
    "production_csv_files = [f for f in os.listdir(raw_wells_production_folder)]\n",
    "\n",
    "# Process each file individually\n",
    "for file in tqdm(production_csv_files, desc=\"Processing CSV files\"):\n",
    "    # Read only the necessary columns from the original file\n",
    "    file_path = os.path.join(raw_wells_production_folder, file)\n",
    "    print(f'Processing {file_path}')\n",
    "    processed_df = pd.read_csv(\n",
    "        file_path,\n",
    "        usecols=['API/UWI', 'Monthly Oil', 'Monthly Gas', 'Monthly Production Date']\n",
    "    )\n",
    "    processed_df = processed_df[~pd.isna(processed_df['API/UWI'])]\n",
    "\n",
    "    processed_df['API/UWI'] = processed_df['API/UWI'].astype(str)\n",
    "    # remove API = 0 because many occurrences\n",
    "    processed_df = processed_df[processed_df['API/UWI'] > '0']\n",
    "\n",
    "    # Save the processed file to the new folder\n",
    "    output_path = os.path.join(wells_production_folder, file)\n",
    "    processed_df.to_csv(output_path, index=False)\n",
    "\n",
    "print(f\"Processed files saved to: {wells_production_folder}\")"
   ]
  },
  {
   "cell_type": "code",
   "execution_count": null,
   "metadata": {
    "colab": {
     "base_uri": "https://localhost:8080/"
    },
    "executionInfo": {
     "elapsed": 163741,
     "status": "ok",
     "timestamp": 1737504185534,
     "user": {
      "displayName": "Philippine Burdeau",
      "userId": "04256222199494352032"
     },
     "user_tz": 480
    },
    "id": "R2Rap93cLeGI",
    "outputId": "f429dd11-1eca-408b-8e2f-b08c4a36435b"
   },
   "outputs": [
    {
     "name": "stderr",
     "output_type": "stream",
     "text": [
      "Processing CSV files:  15%|█▍        | 4/27 [00:25<02:35,  6.77s/it]<ipython-input-6-b56d6e37f633>:12: DtypeWarning: Columns (2) have mixed types. Specify dtype option on import or set low_memory=False.\n",
      "  processed_df = pd.read_csv(\n",
      "Processing CSV files:  19%|█▊        | 5/27 [00:37<03:08,  8.56s/it]<ipython-input-6-b56d6e37f633>:12: DtypeWarning: Columns (2) have mixed types. Specify dtype option on import or set low_memory=False.\n",
      "  processed_df = pd.read_csv(\n",
      "Processing CSV files:  22%|██▏       | 6/27 [00:45<02:54,  8.29s/it]<ipython-input-6-b56d6e37f633>:12: DtypeWarning: Columns (2) have mixed types. Specify dtype option on import or set low_memory=False.\n",
      "  processed_df = pd.read_csv(\n",
      "Processing CSV files:  26%|██▌       | 7/27 [00:52<02:41,  8.05s/it]<ipython-input-6-b56d6e37f633>:12: DtypeWarning: Columns (2) have mixed types. Specify dtype option on import or set low_memory=False.\n",
      "  processed_df = pd.read_csv(\n",
      "Processing CSV files:  30%|██▉       | 8/27 [01:00<02:29,  7.89s/it]<ipython-input-6-b56d6e37f633>:12: DtypeWarning: Columns (2) have mixed types. Specify dtype option on import or set low_memory=False.\n",
      "  processed_df = pd.read_csv(\n",
      "Processing CSV files:  33%|███▎      | 9/27 [01:07<02:16,  7.58s/it]<ipython-input-6-b56d6e37f633>:12: DtypeWarning: Columns (2) have mixed types. Specify dtype option on import or set low_memory=False.\n",
      "  processed_df = pd.read_csv(\n",
      "Processing CSV files:  74%|███████▍  | 20/27 [02:08<00:40,  5.76s/it]<ipython-input-6-b56d6e37f633>:12: DtypeWarning: Columns (2) have mixed types. Specify dtype option on import or set low_memory=False.\n",
      "  processed_df = pd.read_csv(\n",
      "Processing CSV files:  78%|███████▊  | 21/27 [02:14<00:35,  5.89s/it]<ipython-input-6-b56d6e37f633>:12: DtypeWarning: Columns (2) have mixed types. Specify dtype option on import or set low_memory=False.\n",
      "  processed_df = pd.read_csv(\n",
      "Processing CSV files: 100%|██████████| 27/27 [02:43<00:00,  6.06s/it]"
     ]
    },
    {
     "name": "stdout",
     "output_type": "stream",
     "text": [
      "Processed files saved to: /content/drive/Shared drives/Enverus US/Processed Data/Well Headers with useful columns\n"
     ]
    },
    {
     "name": "stderr",
     "output_type": "stream",
     "text": [
      "\n"
     ]
    }
   ],
   "source": [
    "# Step 2: Process raw well headers files\n",
    "\n",
    "# Create a folder for processed files\n",
    "os.makedirs(wells_headers_folder, exist_ok=True)\n",
    "\n",
    "headers_csv_files = [f for f in os.listdir(raw_wells_headers_folder) if f.lower().endswith('.csv')]\n",
    "\n",
    "# Process each file individually\n",
    "for file in tqdm(headers_csv_files, desc=\"Processing CSV files\"):\n",
    "    # Read only the necessary columns from the original file\n",
    "    file_path = os.path.join(raw_wells_headers_folder, file)\n",
    "    processed_df = pd.read_csv(\n",
    "        file_path,\n",
    "        usecols=['API14', 'Surface Hole Latitude (WGS84)', 'Surface Hole Longitude (WGS84)']\n",
    "    )\n",
    "\n",
    "    processed_df = processed_df[~pd.isna(processed_df['API14'])]\n",
    "    processed_df['API14'] = processed_df['API14'].astype(str)\n",
    "    # remove API = 0\n",
    "    processed_df = processed_df[processed_df['API14'] != '0']\n",
    "\n",
    "    # Save the processed file to the new folder\n",
    "    output_path = os.path.join(wells_headers_folder, file)\n",
    "    processed_df.to_csv(output_path, index=False)\n",
    "\n",
    "print(f\"Processed files saved to: {wells_headers_folder}\")"
   ]
  },
  {
   "cell_type": "code",
   "execution_count": null,
   "metadata": {
    "id": "SFWPELAWmQa5"
   },
   "outputs": [],
   "source": [
    "# Step 3: Merge well header files with basins info\n",
    "\n",
    "def process_well_headers(headers_folder, basin_gdf, output_folder):\n",
    "    output_file = os.path.join(output_folder, 'wellheaderswithbasins.csv')\n",
    "    print(output_file)\n",
    "    print(\"Processing well header files...\")\n",
    "    headers_files = [f for f in os.listdir(headers_folder) if f.lower().endswith('.csv')]\n",
    "\n",
    "    # Concatenate well header files\n",
    "    headers_df = pd.concat(\n",
    "        [pd.read_csv(os.path.join(headers_folder, file)) for file in tqdm(headers_files, desc=\"Reading headers\")],\n",
    "        ignore_index=True\n",
    "    )\n",
    "\n",
    "    # Convert to GeoDataFrame\n",
    "    headers_gdf = gpd.GeoDataFrame(\n",
    "        headers_df,\n",
    "        geometry=[Point(xy) for xy in zip(headers_df['Surface Hole Longitude (WGS84)'], headers_df['Surface Hole Latitude (WGS84)'])],\n",
    "        crs='EPSG:4326'\n",
    "    )\n",
    "    # First convert to the same crs (!)\n",
    "    # Spatial join with basins\n",
    "    headers_gdf = gpd.sjoin(headers_gdf.to_crs(26914), basin_gdf.to_crs(26914), how='inner', predicate='within')\n",
    "\n",
    "    # Save as a Pandas DataFrame with BASIN_NAME column\n",
    "    headers_gdf[['API14', 'Surface Hole Latitude (WGS84)', 'Surface Hole Longitude (WGS84)', 'BASIN_NAME']].to_csv(output_file, index=False)\n",
    "    print(f\"Processed well headers saved to: {output_file}\")\n",
    "    return output_file"
   ]
  },
  {
   "cell_type": "code",
   "execution_count": null,
   "metadata": {
    "id": "zGLxomAJmWQM"
   },
   "outputs": [],
   "source": [
    "# Step 4: Merge production files with well headers (that have basin infos) to create initial output files\n",
    "\n",
    "def process_production_files(production_folder, headers_file, output_folder):\n",
    "    print(\"Reading Well Headers with Basins file...\")\n",
    "    headers_df = pd.read_csv(headers_file)\n",
    "\n",
    "    print(\"Looking at list of files...\")\n",
    "\n",
    "    production_files = [f for f in os.listdir(production_folder) if f.lower().endswith('.csv')]\n",
    "    print(\"Processing production files...\")\n",
    "    for file in tqdm(production_files, desc=\"Processing production files\"):\n",
    "        production_df = pd.read_csv(os.path.join(production_folder, file))\n",
    "        production_df['API/UWI'] = production_df['API/UWI'].astype(str)\n",
    "        headers_df['API14'] = headers_df['API14'].astype(str)\n",
    "        print(f\"Read file {file}. Merging with headers...\")\n",
    "\n",
    "        # Merge with headers\n",
    "        merged_df = pd.merge(\n",
    "            production_df,\n",
    "            headers_df,\n",
    "            left_on='API/UWI',\n",
    "            right_on='API14',\n",
    "            how='left'\n",
    "        )\n",
    "        print(\"Saving...\")\n",
    "\n",
    "        # Save each merged file\n",
    "        output_file = os.path.join(output_folder, f\"processed_{file}\")\n",
    "        merged_df.to_csv(output_file, index=False)\n",
    "\n",
    "        print(f\"Processed production file saved to: {output_file}\")"
   ]
  },
  {
   "cell_type": "code",
   "execution_count": null,
   "metadata": {
    "id": "uqxtssFymQgC"
   },
   "outputs": [],
   "source": [
    "# Step 5: Split each initial output file into subfiles by BASIN_NAME\n",
    "\n",
    "def split_by_basin(input_folder, output_folder):\n",
    "    input_files = [f for f in os.listdir(input_folder) if f.lower().endswith('.csv')]\n",
    "    print('Looping through files...')\n",
    "    for file in tqdm(input_files, desc=\"Splitting by BASIN_NAME\"):\n",
    "        if 'KS' in file:\n",
    "          df = pd.read_csv(os.path.join(input_folder, file))\n",
    "          print(f'Uploaded {file}')\n",
    "          # Split by BASIN_NAME\n",
    "          for basin_name, group in df.groupby('BASIN_NAME'):\n",
    "              print(basin_name)\n",
    "              basin_filename = f\"{basin_name.replace(' ', '_')}_{file}\"\n",
    "              basin_output_path = os.path.join(output_folder, basin_filename)\n",
    "              group.to_csv(basin_output_path, index=False)\n",
    "              print(f\"Saved basin file: {basin_output_path}\")"
   ]
  },
  {
   "cell_type": "code",
   "execution_count": null,
   "metadata": {
    "id": "63VOde0tmQi0"
   },
   "outputs": [],
   "source": [
    "# Step 6: Concatenate subfiles by BASIN_NAME\n",
    "\n",
    "def concat_by_basin(input_folder, final_output_folder, basins_gdf, processed_files=None):\n",
    "    \"\"\"\n",
    "    Concatenate files by BASIN_NAME and track processed files.\n",
    "\n",
    "    Args:\n",
    "        input_folder (str): Folder containing input CSV files.\n",
    "        final_output_folder (str): Folder to save final concatenated CSV files.\n",
    "        basins_gdf (GeoDataFrame): GeoDataFrame with BASIN_NAME column.\n",
    "        processed_files (list): List of already processed files (optional).\n",
    "    \"\"\"\n",
    "    print(\"Concatenating files by BASIN_NAME...\")\n",
    "\n",
    "    # Initialize the processed files list if not provided\n",
    "    if processed_files is None:\n",
    "        processed_files = []\n",
    "\n",
    "    # Loop through all unique basin names\n",
    "    for basin_name in tqdm(basins_gdf.BASIN_NAME.unique(), desc=\"Processing basins\"):\n",
    "        print(f'Looking at {basin_name}...')\n",
    "\n",
    "        # Create a formatted version of the basin name to match filenames\n",
    "        formatted_basin_name = basin_name.replace(' ', '_')\n",
    "\n",
    "        # Find all files containing the basin name in their filename\n",
    "        matching_files = [\n",
    "            f for f in os.listdir(input_folder)\n",
    "            if f.lower().endswith('.csv') and f.split('_processed')[0] == formatted_basin_name\n",
    "        ]\n",
    "\n",
    "        # Filter out files that are already processed\n",
    "        matching_files = [f for f in matching_files if f not in processed_files]\n",
    "\n",
    "        # Skip if no matching files found\n",
    "        if not matching_files:\n",
    "            print(f\"No unprocessed files found for basin: {basin_name}\")\n",
    "            continue\n",
    "\n",
    "        print(f\"{len(matching_files)} unprocessed files found for {basin_name}, concatenating them...\")\n",
    "\n",
    "        # Concatenate all matching files\n",
    "        dfs = []\n",
    "        for file in matching_files:\n",
    "            file_path = os.path.join(input_folder, file)\n",
    "            dfs.append(pd.read_csv(file_path))\n",
    "            # Add the file to the processed files list\n",
    "            processed_files.append(file)\n",
    "\n",
    "        final_df = pd.concat(dfs, ignore_index=True)\n",
    "\n",
    "        # Replace formatted names with the original BASIN_NAME\n",
    "        final_df['BASIN_NAME'] = basin_name\n",
    "        print('Saving the file...')\n",
    "\n",
    "        # Save the final DataFrame with the original BASIN_NAME in the filename\n",
    "        final_file = os.path.join(final_output_folder, f\"{basin_name}_final.csv\")\n",
    "        final_df.to_csv(final_file, index=False)\n",
    "        print(f\"Final concatenated file saved for basin {basin_name}: {final_file}\")\n",
    "\n",
    "        # Clear memory for this basin\n",
    "        del dfs, final_df\n",
    "\n",
    "    print(\"All basins processed.\")\n",
    "    return processed_files\n"
   ]
  },
  {
   "cell_type": "code",
   "execution_count": null,
   "metadata": {
    "id": "ThtLUmacmQkz"
   },
   "outputs": [],
   "source": [
    "# Paths\n",
    "\n",
    "headers_output_folder = os.path.join(output_folder, 'Well Headers with Basins')\n",
    "merged_output_folder = os.path.join(output_folder, 'Well Monthly Production with Headers and Basins')\n",
    "split_output_folder = os.path.join(output_folder, 'Well Monthly Production with Headers and Basins split by Basin')\n",
    "final_output_folder = os.path.join(output_folder, 'Well Monthly Production with Headers and Basins concatenated by Basin')\n",
    "\n",
    "# Create the output directory if it doesn't exist\n",
    "os.makedirs(headers_output_folder, exist_ok=True)\n",
    "os.makedirs(merged_output_folder, exist_ok=True)\n",
    "os.makedirs(split_output_folder, exist_ok=True)\n",
    "os.makedirs(final_output_folder, exist_ok=True)\n",
    "\n",
    "# Run the steps\n",
    "basin_gdf_path = os.path.join(base_folder, 'Basins_Shapefile')\n",
    "basin_gdf = gpd.read_file(basin_gdf_path)"
   ]
  },
  {
   "cell_type": "code",
   "execution_count": null,
   "metadata": {
    "colab": {
     "base_uri": "https://localhost:8080/",
     "height": 107
    },
    "executionInfo": {
     "elapsed": 132834,
     "status": "ok",
     "timestamp": 1737505085103,
     "user": {
      "displayName": "Philippine Burdeau",
      "userId": "04256222199494352032"
     },
     "user_tz": 480
    },
    "id": "f9ZYlm6E0he3",
    "outputId": "d0f3d104-8fa8-4422-919d-84e2909fad80"
   },
   "outputs": [
    {
     "name": "stdout",
     "output_type": "stream",
     "text": [
      "/content/drive/Shared drives/Enverus US/Processed Data/Well Headers with Basins/wellheaderswithbasins.csv\n",
      "Processing well header files...\n"
     ]
    },
    {
     "name": "stderr",
     "output_type": "stream",
     "text": [
      "Reading headers: 100%|██████████| 27/27 [00:05<00:00,  4.59it/s]\n"
     ]
    },
    {
     "name": "stdout",
     "output_type": "stream",
     "text": [
      "Processed well headers saved to: /content/drive/Shared drives/Enverus US/Processed Data/Well Headers with Basins/wellheaderswithbasins.csv\n"
     ]
    },
    {
     "data": {
      "application/vnd.google.colaboratory.intrinsic+json": {
       "type": "string"
      },
      "text/plain": [
       "'/content/drive/Shared drives/Enverus US/Processed Data/Well Headers with Basins/wellheaderswithbasins.csv'"
      ]
     },
     "execution_count": 12,
     "metadata": {},
     "output_type": "execute_result"
    }
   ],
   "source": [
    "process_well_headers(wells_headers_folder, basin_gdf, headers_output_folder)"
   ]
  },
  {
   "cell_type": "code",
   "execution_count": null,
   "metadata": {
    "id": "k4DMdPKmT2FR"
   },
   "outputs": [],
   "source": []
  },
  {
   "cell_type": "code",
   "execution_count": null,
   "metadata": {
    "id": "is7SdtngqbJ5"
   },
   "outputs": [],
   "source": []
  },
  {
   "cell_type": "code",
   "execution_count": null,
   "metadata": {
    "colab": {
     "background_save": true,
     "base_uri": "https://localhost:8080/"
    },
    "id": "wMh8YvRVtHha",
    "outputId": "67c371f6-eb1e-4ae1-c0b4-7a63c25e7b86"
   },
   "outputs": [
    {
     "name": "stdout",
     "output_type": "stream",
     "text": [
      "Reading Well Headers with Basins file...\n"
     ]
    },
    {
     "name": "stderr",
     "output_type": "stream",
     "text": [
      "<ipython-input-10-ee6957a2ffe2>:5: DtypeWarning: Columns (0) have mixed types. Specify dtype option on import or set low_memory=False.\n",
      "  headers_df = pd.read_csv(headers_file)\n"
     ]
    },
    {
     "name": "stdout",
     "output_type": "stream",
     "text": [
      "Looking at list of files...\n",
      "Processing production files...\n"
     ]
    },
    {
     "name": "stderr",
     "output_type": "stream",
     "text": [
      "\r",
      "Processing production files:   0%|          | 0/25 [00:00<?, ?it/s]"
     ]
    },
    {
     "name": "stdout",
     "output_type": "stream",
     "text": [
      "Read file NM-NY Well Monthly Production.CSV. Merging with headers...\n",
      "Saving...\n"
     ]
    },
    {
     "name": "stderr",
     "output_type": "stream",
     "text": [
      "\r",
      "Processing production files:   4%|▍         | 1/25 [05:38<2:15:12, 338.03s/it]"
     ]
    },
    {
     "name": "stdout",
     "output_type": "stream",
     "text": [
      "Processed production file saved to: /content/drive/Shared drives/Enverus US/Processed Data/Well Monthly Production with Headers and Basins/processed_NM-NY Well Monthly Production.CSV\n",
      "Read file OH-1 Well Monthly Production.CSV. Merging with headers...\n",
      "Saving...\n"
     ]
    },
    {
     "name": "stderr",
     "output_type": "stream",
     "text": [
      "\r",
      "Processing production files:   8%|▊         | 2/25 [09:26<1:44:55, 273.74s/it]"
     ]
    },
    {
     "name": "stdout",
     "output_type": "stream",
     "text": [
      "Processed production file saved to: /content/drive/Shared drives/Enverus US/Processed Data/Well Monthly Production with Headers and Basins/processed_OH-1 Well Monthly Production.CSV\n"
     ]
    },
    {
     "name": "stderr",
     "output_type": "stream",
     "text": [
      "<ipython-input-10-ee6957a2ffe2>:12: DtypeWarning: Columns (0) have mixed types. Specify dtype option on import or set low_memory=False.\n",
      "  production_df = pd.read_csv(os.path.join(production_folder, file))\n"
     ]
    },
    {
     "name": "stdout",
     "output_type": "stream",
     "text": [
      "Read file TX-3 Well Monthly Production.CSV. Merging with headers...\n",
      "Saving...\n"
     ]
    },
    {
     "name": "stderr",
     "output_type": "stream",
     "text": [
      "\r",
      "Processing production files:  12%|█▏        | 3/25 [13:58<1:40:05, 272.97s/it]"
     ]
    },
    {
     "name": "stdout",
     "output_type": "stream",
     "text": [
      "Processed production file saved to: /content/drive/Shared drives/Enverus US/Processed Data/Well Monthly Production with Headers and Basins/processed_TX-3 Well Monthly Production.CSV\n",
      "Read file TX-6 Well Monthly Production.CSV. Merging with headers...\n",
      "Saving...\n"
     ]
    },
    {
     "name": "stderr",
     "output_type": "stream",
     "text": [
      "\r",
      "Processing production files:  16%|█▌        | 4/25 [17:52<1:30:09, 257.60s/it]"
     ]
    },
    {
     "name": "stdout",
     "output_type": "stream",
     "text": [
      "Processed production file saved to: /content/drive/Shared drives/Enverus US/Processed Data/Well Monthly Production with Headers and Basins/processed_TX-6 Well Monthly Production.CSV\n",
      "Read file TX-4 Well Monthly Production.CSV. Merging with headers...\n",
      "Saving...\n"
     ]
    },
    {
     "name": "stderr",
     "output_type": "stream",
     "text": [
      "\r",
      "Processing production files:  20%|██        | 5/25 [21:24<1:20:18, 240.95s/it]"
     ]
    },
    {
     "name": "stdout",
     "output_type": "stream",
     "text": [
      "Processed production file saved to: /content/drive/Shared drives/Enverus US/Processed Data/Well Monthly Production with Headers and Basins/processed_TX-4 Well Monthly Production.CSV\n",
      "Read file LA-1 Well Monthly Production.CSV. Merging with headers...\n",
      "Saving...\n"
     ]
    },
    {
     "name": "stderr",
     "output_type": "stream",
     "text": [
      "\r",
      "Processing production files:  24%|██▍       | 6/25 [25:20<1:15:44, 239.18s/it]"
     ]
    },
    {
     "name": "stdout",
     "output_type": "stream",
     "text": [
      "Processed production file saved to: /content/drive/Shared drives/Enverus US/Processed Data/Well Monthly Production with Headers and Basins/processed_LA-1 Well Monthly Production.CSV\n",
      "Read file TX-7 Well Monthly Production.CSV. Merging with headers...\n",
      "Saving...\n"
     ]
    },
    {
     "name": "stderr",
     "output_type": "stream",
     "text": [
      "\r",
      "Processing production files:  28%|██▊       | 7/25 [29:11<1:11:00, 236.68s/it]"
     ]
    },
    {
     "name": "stdout",
     "output_type": "stream",
     "text": [
      "Processed production file saved to: /content/drive/Shared drives/Enverus US/Processed Data/Well Monthly Production with Headers and Basins/processed_TX-7 Well Monthly Production.CSV\n",
      "Read file TX-2 Well Monthly Production.CSV. Merging with headers...\n",
      "Saving...\n"
     ]
    },
    {
     "name": "stderr",
     "output_type": "stream",
     "text": [
      "\r",
      "Processing production files:  32%|███▏      | 8/25 [33:22<1:08:18, 241.11s/it]"
     ]
    },
    {
     "name": "stdout",
     "output_type": "stream",
     "text": [
      "Processed production file saved to: /content/drive/Shared drives/Enverus US/Processed Data/Well Monthly Production with Headers and Basins/processed_TX-2 Well Monthly Production.CSV\n",
      "Read file OK-2 Well Monthly Production.CSV. Merging with headers...\n",
      "Saving...\n"
     ]
    },
    {
     "name": "stderr",
     "output_type": "stream",
     "text": [
      "\r",
      "Processing production files:  36%|███▌      | 9/25 [37:08<1:03:01, 236.36s/it]"
     ]
    },
    {
     "name": "stdout",
     "output_type": "stream",
     "text": [
      "Processed production file saved to: /content/drive/Shared drives/Enverus US/Processed Data/Well Monthly Production with Headers and Basins/processed_OK-2 Well Monthly Production.CSV\n",
      "Read file TX-1 Well Monthly Production.CSV. Merging with headers...\n",
      "Saving...\n"
     ]
    },
    {
     "name": "stderr",
     "output_type": "stream",
     "text": [
      "\r",
      "Processing production files:  40%|████      | 10/25 [41:12<59:44, 238.96s/it] "
     ]
    },
    {
     "name": "stdout",
     "output_type": "stream",
     "text": [
      "Processed production file saved to: /content/drive/Shared drives/Enverus US/Processed Data/Well Monthly Production with Headers and Basins/processed_TX-1 Well Monthly Production.CSV\n",
      "Read file PA-1 Well Monthly Production.CSV. Merging with headers...\n",
      "Saving...\n"
     ]
    },
    {
     "name": "stderr",
     "output_type": "stream",
     "text": [
      "\r",
      "Processing production files:  44%|████▍     | 11/25 [45:30<57:04, 244.64s/it]"
     ]
    },
    {
     "name": "stdout",
     "output_type": "stream",
     "text": [
      "Processed production file saved to: /content/drive/Shared drives/Enverus US/Processed Data/Well Monthly Production with Headers and Basins/processed_PA-1 Well Monthly Production.CSV\n",
      "Read file MI-PA-2 Well Monthly Production.CSV. Merging with headers...\n",
      "Saving...\n"
     ]
    },
    {
     "name": "stderr",
     "output_type": "stream",
     "text": [
      "\r",
      "Processing production files:  48%|████▊     | 12/25 [46:29<40:46, 188.16s/it]"
     ]
    },
    {
     "name": "stdout",
     "output_type": "stream",
     "text": [
      "Processed production file saved to: /content/drive/Shared drives/Enverus US/Processed Data/Well Monthly Production with Headers and Basins/processed_MI-PA-2 Well Monthly Production.CSV\n",
      "Read file CA_1 Well Monthly Production.CSV. Merging with headers...\n",
      "Saving...\n"
     ]
    },
    {
     "name": "stderr",
     "output_type": "stream",
     "text": [
      "\r",
      "Processing production files:  52%|█████▏    | 13/25 [51:22<43:57, 219.82s/it]"
     ]
    },
    {
     "name": "stdout",
     "output_type": "stream",
     "text": [
      "Processed production file saved to: /content/drive/Shared drives/Enverus US/Processed Data/Well Monthly Production with Headers and Basins/processed_CA_1 Well Monthly Production.CSV\n",
      "Read file IL-MS Well Monthly Production.CSV. Merging with headers...\n",
      "Saving...\n"
     ]
    },
    {
     "name": "stderr",
     "output_type": "stream",
     "text": [
      "\r",
      "Processing production files:  56%|█████▌    | 14/25 [51:59<30:11, 164.72s/it]"
     ]
    },
    {
     "name": "stdout",
     "output_type": "stream",
     "text": [
      "Processed production file saved to: /content/drive/Shared drives/Enverus US/Processed Data/Well Monthly Production with Headers and Basins/processed_IL-MS Well Monthly Production.CSV\n",
      "Read file E-Coast Well Monthly Production.CSV. Merging with headers...\n",
      "Saving...\n"
     ]
    },
    {
     "name": "stderr",
     "output_type": "stream",
     "text": [
      "\r",
      "Processing production files:  60%|██████    | 15/25 [56:29<32:45, 196.52s/it]"
     ]
    },
    {
     "name": "stdout",
     "output_type": "stream",
     "text": [
      "Processed production file saved to: /content/drive/Shared drives/Enverus US/Processed Data/Well Monthly Production with Headers and Basins/processed_E-Coast Well Monthly Production.CSV\n",
      "Read file E-Central Well Monthly Production.CSV. Merging with headers...\n",
      "Saving...\n"
     ]
    },
    {
     "name": "stderr",
     "output_type": "stream",
     "text": [
      "\r",
      "Processing production files:  64%|██████▍   | 16/25 [58:12<25:15, 168.42s/it]"
     ]
    },
    {
     "name": "stdout",
     "output_type": "stream",
     "text": [
      "Processed production file saved to: /content/drive/Shared drives/Enverus US/Processed Data/Well Monthly Production with Headers and Basins/processed_E-Central Well Monthly Production.CSV\n",
      "Read file W-Coast-N-Central Well Monthly Production.CSV. Merging with headers...\n",
      "Saving...\n"
     ]
    },
    {
     "name": "stderr",
     "output_type": "stream",
     "text": [
      "\r",
      "Processing production files:  68%|██████▊   | 17/25 [1:01:35<23:48, 178.58s/it]"
     ]
    },
    {
     "name": "stdout",
     "output_type": "stream",
     "text": [
      "Processed production file saved to: /content/drive/Shared drives/Enverus US/Processed Data/Well Monthly Production with Headers and Basins/processed_W-Coast-N-Central Well Monthly Production.CSV\n",
      "Read file Fed-Offshore Well Monthly Production.CSV. Merging with headers...\n",
      "Saving...\n"
     ]
    },
    {
     "name": "stderr",
     "output_type": "stream",
     "text": [
      "\r",
      "Processing production files:  72%|███████▏  | 18/25 [1:02:18<16:06, 138.11s/it]"
     ]
    },
    {
     "name": "stdout",
     "output_type": "stream",
     "text": [
      "Processed production file saved to: /content/drive/Shared drives/Enverus US/Processed Data/Well Monthly Production with Headers and Basins/processed_Fed-Offshore Well Monthly Production.CSV\n",
      "Read file OK-1 Well Monthly Production.CSV. Merging with headers...\n",
      "Saving...\n"
     ]
    },
    {
     "name": "stderr",
     "output_type": "stream",
     "text": [
      "\r",
      "Processing production files:  76%|███████▌  | 19/25 [1:05:07<14:43, 147.21s/it]"
     ]
    },
    {
     "name": "stdout",
     "output_type": "stream",
     "text": [
      "Processed production file saved to: /content/drive/Shared drives/Enverus US/Processed Data/Well Monthly Production with Headers and Basins/processed_OK-1 Well Monthly Production.CSV\n",
      "Read file WY-OH-2 Well Monthly Production.CSV. Merging with headers...\n",
      "Saving...\n"
     ]
    },
    {
     "name": "stderr",
     "output_type": "stream",
     "text": [
      "\r",
      "Processing production files:  80%|████████  | 20/25 [1:08:06<13:04, 156.83s/it]"
     ]
    },
    {
     "name": "stdout",
     "output_type": "stream",
     "text": [
      "Processed production file saved to: /content/drive/Shared drives/Enverus US/Processed Data/Well Monthly Production with Headers and Basins/processed_WY-OH-2 Well Monthly Production.CSV\n",
      "Read file CO-LA-2-CA-2 Well Monthly Production.CSV. Merging with headers...\n",
      "Saving...\n"
     ]
    },
    {
     "name": "stderr",
     "output_type": "stream",
     "text": [
      "\r",
      "Processing production files:  84%|████████▍ | 21/25 [1:11:09<10:58, 164.64s/it]"
     ]
    },
    {
     "name": "stdout",
     "output_type": "stream",
     "text": [
      "Processed production file saved to: /content/drive/Shared drives/Enverus US/Processed Data/Well Monthly Production with Headers and Basins/processed_CO-LA-2-CA-2 Well Monthly Production.CSV\n",
      "Read file TX-5 Well Monthly Production.CSV. Merging with headers...\n",
      "Saving...\n"
     ]
    },
    {
     "name": "stderr",
     "output_type": "stream",
     "text": [
      "\r",
      "Processing production files:  88%|████████▊ | 22/25 [1:16:26<10:31, 210.54s/it]"
     ]
    },
    {
     "name": "stdout",
     "output_type": "stream",
     "text": [
      "Processed production file saved to: /content/drive/Shared drives/Enverus US/Processed Data/Well Monthly Production with Headers and Basins/processed_TX-5 Well Monthly Production.CSV\n",
      "Read file OK-3-TX-8 Well Monthly Production.CSV. Merging with headers...\n",
      "Saving...\n"
     ]
    },
    {
     "name": "stderr",
     "output_type": "stream",
     "text": [
      "\r",
      "Processing production files:  92%|█████████▏| 23/25 [1:20:22<07:16, 218.12s/it]"
     ]
    },
    {
     "name": "stdout",
     "output_type": "stream",
     "text": [
      "Processed production file saved to: /content/drive/Shared drives/Enverus US/Processed Data/Well Monthly Production with Headers and Basins/processed_OK-3-TX-8 Well Monthly Production.CSV\n",
      "Read file MI Producing Entity Monthly Production.CSV. Merging with headers...\n",
      "Saving...\n"
     ]
    },
    {
     "name": "stderr",
     "output_type": "stream",
     "text": [
      "\r",
      "Processing production files:  96%|█████████▌| 24/25 [1:21:03<02:44, 164.86s/it]"
     ]
    },
    {
     "name": "stdout",
     "output_type": "stream",
     "text": [
      "Processed production file saved to: /content/drive/Shared drives/Enverus US/Processed Data/Well Monthly Production with Headers and Basins/processed_MI Producing Entity Monthly Production.CSV\n",
      "Read file KS Producing Entity Monthly Production.CSV. Merging with headers...\n",
      "Saving...\n"
     ]
    },
    {
     "name": "stderr",
     "output_type": "stream",
     "text": [
      "Processing production files: 100%|██████████| 25/25 [1:26:08<00:00, 206.76s/it]"
     ]
    },
    {
     "name": "stdout",
     "output_type": "stream",
     "text": [
      "Processed production file saved to: /content/drive/Shared drives/Enverus US/Processed Data/Well Monthly Production with Headers and Basins/processed_KS Producing Entity Monthly Production.CSV\n"
     ]
    },
    {
     "name": "stderr",
     "output_type": "stream",
     "text": [
      "\n"
     ]
    }
   ],
   "source": [
    "headers_file = os.path.join(headers_output_folder, 'wellheaderswithbasins.csv')\n",
    "process_production_files(wells_production_folder, headers_file, merged_output_folder)"
   ]
  },
  {
   "cell_type": "code",
   "execution_count": null,
   "metadata": {
    "colab": {
     "base_uri": "https://localhost:8080/"
    },
    "executionInfo": {
     "elapsed": 372069,
     "status": "ok",
     "timestamp": 1737682569130,
     "user": {
      "displayName": "Philippine Burdeau",
      "userId": "04256222199494352032"
     },
     "user_tz": 480
    },
    "id": "nvrJoI1WypNF",
    "outputId": "b722fcc4-b51f-406e-82b9-95bac2aca9b2"
   },
   "outputs": [
    {
     "name": "stdout",
     "output_type": "stream",
     "text": [
      "Looping through files...\n"
     ]
    },
    {
     "name": "stderr",
     "output_type": "stream",
     "text": [
      "\r",
      "Splitting by BASIN_NAME:   0%|          | 0/25 [00:00<?, ?it/s]"
     ]
    },
    {
     "name": "stdout",
     "output_type": "stream",
     "text": [
      "Uploaded processed_KS Producing Entity Monthly Production.CSV\n",
      "Anadarko Basin\n",
      "Saved basin file: /content/drive/Shared drives/Enverus US/Processed Data/Well Monthly Production with Headers and Basins split by Basin/Anadarko_Basin_processed_KS Producing Entity Monthly Production.CSV\n",
      "Central Kansas Uplift\n",
      "Saved basin file: /content/drive/Shared drives/Enverus US/Processed Data/Well Monthly Production with Headers and Basins split by Basin/Central_Kansas_Uplift_processed_KS Producing Entity Monthly Production.CSV\n",
      "Cherokee Basin\n",
      "Saved basin file: /content/drive/Shared drives/Enverus US/Processed Data/Well Monthly Production with Headers and Basins split by Basin/Cherokee_Basin_processed_KS Producing Entity Monthly Production.CSV\n",
      "Forest City Basin\n",
      "Saved basin file: /content/drive/Shared drives/Enverus US/Processed Data/Well Monthly Production with Headers and Basins split by Basin/Forest_City_Basin_processed_KS Producing Entity Monthly Production.CSV\n",
      "Las Animas Arch\n",
      "Saved basin file: /content/drive/Shared drives/Enverus US/Processed Data/Well Monthly Production with Headers and Basins split by Basin/Las_Animas_Arch_processed_KS Producing Entity Monthly Production.CSV\n",
      "Nemeha Anticline\n",
      "Saved basin file: /content/drive/Shared drives/Enverus US/Processed Data/Well Monthly Production with Headers and Basins split by Basin/Nemeha_Anticline_processed_KS Producing Entity Monthly Production.CSV\n",
      "Salina Basin\n",
      "Saved basin file: /content/drive/Shared drives/Enverus US/Processed Data/Well Monthly Production with Headers and Basins split by Basin/Salina_Basin_processed_KS Producing Entity Monthly Production.CSV\n",
      "Sedgwick Basin\n"
     ]
    },
    {
     "name": "stderr",
     "output_type": "stream",
     "text": [
      "Splitting by BASIN_NAME: 100%|██████████| 25/25 [06:11<00:00, 14.85s/it]"
     ]
    },
    {
     "name": "stdout",
     "output_type": "stream",
     "text": [
      "Saved basin file: /content/drive/Shared drives/Enverus US/Processed Data/Well Monthly Production with Headers and Basins split by Basin/Sedgwick_Basin_processed_KS Producing Entity Monthly Production.CSV\n"
     ]
    },
    {
     "name": "stderr",
     "output_type": "stream",
     "text": [
      "\n"
     ]
    }
   ],
   "source": [
    "split_by_basin(merged_output_folder, split_output_folder)"
   ]
  },
  {
   "cell_type": "code",
   "execution_count": null,
   "metadata": {
    "id": "bnb1Gs2Pt5KV"
   },
   "outputs": [],
   "source": []
  },
  {
   "cell_type": "code",
   "execution_count": null,
   "metadata": {
    "colab": {
     "base_uri": "https://localhost:8080/"
    },
    "executionInfo": {
     "elapsed": 6480700,
     "status": "ok",
     "timestamp": 1737752218539,
     "user": {
      "displayName": "Philippine Burdeau",
      "userId": "04256222199494352032"
     },
     "user_tz": 480
    },
    "id": "ZlXsg9pA_6Gv",
    "outputId": "7c7aedc9-0ef0-4bf5-dc5d-4c3bf68fd03e"
   },
   "outputs": [
    {
     "name": "stdout",
     "output_type": "stream",
     "text": [
      "Concatenating files by BASIN_NAME...\n"
     ]
    },
    {
     "name": "stderr",
     "output_type": "stream",
     "text": [
      "\r",
      "Processing basins:   0%|          | 0/97 [00:00<?, ?it/s]"
     ]
    },
    {
     "name": "stdout",
     "output_type": "stream",
     "text": [
      "Looking at New England Province...\n",
      "No unprocessed files found for basin: New England Province\n",
      "Looking at Adirondack Uplift...\n",
      "No unprocessed files found for basin: Adirondack Uplift\n",
      "Looking at Atlantic Coast Basin...\n",
      "No unprocessed files found for basin: Atlantic Coast Basin\n",
      "Looking at S.GA Sedimentary Prov...\n",
      "1 unprocessed files found for S.GA Sedimentary Prov, concatenating them...\n",
      "Saving the file...\n",
      "Final concatenated file saved for basin S.GA Sedimentary Prov: /content/drive/Shared drives/Enverus US/Processed Data/Well Monthly Production with Headers and Basins concatenated by Basin/S.GA Sedimentary Prov_final.csv\n",
      "Looking at Florida Platform...\n",
      "1 unprocessed files found for Florida Platform, concatenating them...\n",
      "Saving the file...\n"
     ]
    },
    {
     "name": "stderr",
     "output_type": "stream",
     "text": [
      "\r",
      "Processing basins:   5%|▌         | 5/97 [00:00<00:06, 15.31it/s]"
     ]
    },
    {
     "name": "stdout",
     "output_type": "stream",
     "text": [
      "Final concatenated file saved for basin Florida Platform: /content/drive/Shared drives/Enverus US/Processed Data/Well Monthly Production with Headers and Basins concatenated by Basin/Florida Platform_final.csv\n",
      "Looking at Piedmont-Blue Ridge Prov...\n",
      "No unprocessed files found for basin: Piedmont-Blue Ridge Prov\n",
      "Looking at Appalachian Basin...\n",
      "7 unprocessed files found for Appalachian Basin, concatenating them...\n"
     ]
    },
    {
     "name": "stderr",
     "output_type": "stream",
     "text": [
      "\r",
      "Processing basins:   5%|▌         | 5/97 [00:18<00:06, 15.31it/s]"
     ]
    },
    {
     "name": "stdout",
     "output_type": "stream",
     "text": [
      "Saving the file...\n",
      "Final concatenated file saved for basin Appalachian Basin: /content/drive/Shared drives/Enverus US/Processed Data/Well Monthly Production with Headers and Basins concatenated by Basin/Appalachian Basin_final.csv\n"
     ]
    },
    {
     "name": "stderr",
     "output_type": "stream",
     "text": [
      "\r",
      "Processing basins:   7%|▋         | 7/97 [05:17<1:26:41, 57.79s/it]"
     ]
    },
    {
     "name": "stdout",
     "output_type": "stream",
     "text": [
      "Looking at Appalachian Basin (Eastern Overthrust Area)...\n",
      "6 unprocessed files found for Appalachian Basin (Eastern Overthrust Area), concatenating them...\n",
      "Saving the file...\n"
     ]
    },
    {
     "name": "stderr",
     "output_type": "stream",
     "text": [
      "\r",
      "Processing basins:   8%|▊         | 8/97 [19:03<5:20:34, 216.12s/it]"
     ]
    },
    {
     "name": "stdout",
     "output_type": "stream",
     "text": [
      "Final concatenated file saved for basin Appalachian Basin (Eastern Overthrust Area): /content/drive/Shared drives/Enverus US/Processed Data/Well Monthly Production with Headers and Basins concatenated by Basin/Appalachian Basin (Eastern Overthrust Area)_final.csv\n",
      "Looking at Black Warrior Basin...\n",
      "2 unprocessed files found for Black Warrior Basin, concatenating them...\n",
      "Saving the file...\n"
     ]
    },
    {
     "name": "stderr",
     "output_type": "stream",
     "text": [
      "\r",
      "Processing basins:   9%|▉         | 9/97 [19:50<4:20:21, 177.52s/it]"
     ]
    },
    {
     "name": "stdout",
     "output_type": "stream",
     "text": [
      "Final concatenated file saved for basin Black Warrior Basin: /content/drive/Shared drives/Enverus US/Processed Data/Well Monthly Production with Headers and Basins concatenated by Basin/Black Warrior Basin_final.csv\n",
      "Looking at Mid-Gulf Coast Basin...\n",
      "3 unprocessed files found for Mid-Gulf Coast Basin, concatenating them...\n",
      "Saving the file...\n"
     ]
    },
    {
     "name": "stderr",
     "output_type": "stream",
     "text": [
      "\r",
      "Processing basins:  10%|█         | 10/97 [20:18<3:24:24, 140.97s/it]"
     ]
    },
    {
     "name": "stdout",
     "output_type": "stream",
     "text": [
      "Final concatenated file saved for basin Mid-Gulf Coast Basin: /content/drive/Shared drives/Enverus US/Processed Data/Well Monthly Production with Headers and Basins concatenated by Basin/Mid-Gulf Coast Basin_final.csv\n",
      "Looking at Gulf Coast Basin (LA, TX)...\n",
      "10 unprocessed files found for Gulf Coast Basin (LA, TX), concatenating them...\n",
      "Saving the file...\n",
      "Final concatenated file saved for basin Gulf Coast Basin (LA, TX): /content/drive/Shared drives/Enverus US/Processed Data/Well Monthly Production with Headers and Basins concatenated by Basin/Gulf Coast Basin (LA, TX)_final.csv\n"
     ]
    },
    {
     "name": "stderr",
     "output_type": "stream",
     "text": [
      "\r",
      "Processing basins:  11%|█▏        | 11/97 [32:02<6:51:36, 287.17s/it]"
     ]
    },
    {
     "name": "stdout",
     "output_type": "stream",
     "text": [
      "Looking at Arkla Basin...\n",
      "4 unprocessed files found for Arkla Basin, concatenating them...\n",
      "Saving the file...\n"
     ]
    },
    {
     "name": "stderr",
     "output_type": "stream",
     "text": [
      "\r",
      "Processing basins:  12%|█▏        | 12/97 [36:10<6:31:47, 276.56s/it]"
     ]
    },
    {
     "name": "stdout",
     "output_type": "stream",
     "text": [
      "Final concatenated file saved for basin Arkla Basin: /content/drive/Shared drives/Enverus US/Processed Data/Well Monthly Production with Headers and Basins concatenated by Basin/Arkla Basin_final.csv\n",
      "Looking at Desha Basin...\n",
      "No unprocessed files found for basin: Desha Basin\n",
      "Looking at Upper Mississippi Embaymnt...\n",
      "2 unprocessed files found for Upper Mississippi Embaymnt, concatenating them...\n",
      "Saving the file...\n"
     ]
    },
    {
     "name": "stderr",
     "output_type": "stream",
     "text": [
      "\r",
      "Processing basins:  14%|█▍        | 14/97 [36:12<3:36:12, 156.29s/it]"
     ]
    },
    {
     "name": "stdout",
     "output_type": "stream",
     "text": [
      "Final concatenated file saved for basin Upper Mississippi Embaymnt: /content/drive/Shared drives/Enverus US/Processed Data/Well Monthly Production with Headers and Basins concatenated by Basin/Upper Mississippi Embaymnt_final.csv\n",
      "Looking at East Texas Basin...\n",
      "10 unprocessed files found for East Texas Basin, concatenating them...\n",
      "Saving the file...\n",
      "Final concatenated file saved for basin East Texas Basin: /content/drive/Shared drives/Enverus US/Processed Data/Well Monthly Production with Headers and Basins concatenated by Basin/East Texas Basin_final.csv\n"
     ]
    },
    {
     "name": "stderr",
     "output_type": "stream",
     "text": [
      "\r",
      "Processing basins:  15%|█▌        | 15/97 [40:20<4:03:19, 178.04s/it]"
     ]
    },
    {
     "name": "stdout",
     "output_type": "stream",
     "text": [
      "Looking at Cincinnati Arch...\n",
      "3 unprocessed files found for Cincinnati Arch, concatenating them...\n",
      "Saving the file...\n"
     ]
    },
    {
     "name": "stderr",
     "output_type": "stream",
     "text": [
      "\r",
      "Processing basins:  16%|█▋        | 16/97 [40:24<3:01:04, 134.13s/it]"
     ]
    },
    {
     "name": "stdout",
     "output_type": "stream",
     "text": [
      "Final concatenated file saved for basin Cincinnati Arch: /content/drive/Shared drives/Enverus US/Processed Data/Well Monthly Production with Headers and Basins concatenated by Basin/Cincinnati Arch_final.csv\n",
      "Looking at Michigan Basin...\n",
      "3 unprocessed files found for Michigan Basin, concatenating them...\n",
      "Saving the file...\n"
     ]
    },
    {
     "name": "stderr",
     "output_type": "stream",
     "text": [
      "\r",
      "Processing basins:  18%|█▊        | 17/97 [41:04<2:25:21, 109.01s/it]"
     ]
    },
    {
     "name": "stdout",
     "output_type": "stream",
     "text": [
      "Final concatenated file saved for basin Michigan Basin: /content/drive/Shared drives/Enverus US/Processed Data/Well Monthly Production with Headers and Basins concatenated by Basin/Michigan Basin_final.csv\n",
      "Looking at Wisconsin Arch...\n",
      "No unprocessed files found for basin: Wisconsin Arch\n",
      "Looking at Illinois Basin...\n",
      "1 unprocessed files found for Illinois Basin, concatenating them...\n",
      "Saving the file...\n"
     ]
    },
    {
     "name": "stderr",
     "output_type": "stream",
     "text": [
      "\r",
      "Processing basins:  20%|█▉        | 19/97 [41:09<1:22:03, 63.12s/it] "
     ]
    },
    {
     "name": "stdout",
     "output_type": "stream",
     "text": [
      "Final concatenated file saved for basin Illinois Basin: /content/drive/Shared drives/Enverus US/Processed Data/Well Monthly Production with Headers and Basins concatenated by Basin/Illinois Basin_final.csv\n",
      "Looking at Sioux Uplift...\n",
      "No unprocessed files found for basin: Sioux Uplift\n",
      "Looking at Iowa Shelf...\n",
      "No unprocessed files found for basin: Iowa Shelf\n",
      "Looking at Lincoln Anticline...\n",
      "No unprocessed files found for basin: Lincoln Anticline\n",
      "Looking at Forest City Basin...\n",
      "2 unprocessed files found for Forest City Basin, concatenating them...\n",
      "Saving the file...\n"
     ]
    },
    {
     "name": "stderr",
     "output_type": "stream",
     "text": [
      "\r",
      "Processing basins:  24%|██▎       | 23/97 [41:19<36:31, 29.62s/it]  "
     ]
    },
    {
     "name": "stdout",
     "output_type": "stream",
     "text": [
      "Final concatenated file saved for basin Forest City Basin: /content/drive/Shared drives/Enverus US/Processed Data/Well Monthly Production with Headers and Basins concatenated by Basin/Forest City Basin_final.csv\n",
      "Looking at Ozark Uplift...\n",
      "No unprocessed files found for basin: Ozark Uplift\n",
      "Looking at Arkoma Basin...\n",
      "3 unprocessed files found for Arkoma Basin, concatenating them...\n",
      "Saving the file...\n"
     ]
    },
    {
     "name": "stderr",
     "output_type": "stream",
     "text": [
      "\r",
      "Processing basins:  26%|██▌       | 25/97 [42:31<37:46, 31.48s/it]"
     ]
    },
    {
     "name": "stdout",
     "output_type": "stream",
     "text": [
      "Final concatenated file saved for basin Arkoma Basin: /content/drive/Shared drives/Enverus US/Processed Data/Well Monthly Production with Headers and Basins concatenated by Basin/Arkoma Basin_final.csv\n",
      "Looking at South Oklahoma Folded Belt...\n",
      "6 unprocessed files found for South Oklahoma Folded Belt, concatenating them...\n",
      "Saving the file...\n"
     ]
    },
    {
     "name": "stderr",
     "output_type": "stream",
     "text": [
      "\r",
      "Processing basins:  27%|██▋       | 26/97 [44:38<56:11, 47.49s/it]"
     ]
    },
    {
     "name": "stdout",
     "output_type": "stream",
     "text": [
      "Final concatenated file saved for basin South Oklahoma Folded Belt: /content/drive/Shared drives/Enverus US/Processed Data/Well Monthly Production with Headers and Basins concatenated by Basin/South Oklahoma Folded Belt_final.csv\n",
      "Looking at Chautauqua Platform...\n",
      "3 unprocessed files found for Chautauqua Platform, concatenating them...\n",
      "Saving the file...\n"
     ]
    },
    {
     "name": "stderr",
     "output_type": "stream",
     "text": [
      "\r",
      "Processing basins:  28%|██▊       | 27/97 [47:39<1:25:35, 73.37s/it]"
     ]
    },
    {
     "name": "stdout",
     "output_type": "stream",
     "text": [
      "Final concatenated file saved for basin Chautauqua Platform: /content/drive/Shared drives/Enverus US/Processed Data/Well Monthly Production with Headers and Basins concatenated by Basin/Chautauqua Platform_final.csv\n",
      "Looking at Anadarko Basin...\n",
      "12 unprocessed files found for Anadarko Basin, concatenating them...\n",
      "Saving the file...\n"
     ]
    },
    {
     "name": "stderr",
     "output_type": "stream",
     "text": [
      "\r",
      "Processing basins:  29%|██▉       | 28/97 [58:01<3:41:06, 192.27s/it]"
     ]
    },
    {
     "name": "stdout",
     "output_type": "stream",
     "text": [
      "Final concatenated file saved for basin Anadarko Basin: /content/drive/Shared drives/Enverus US/Processed Data/Well Monthly Production with Headers and Basins concatenated by Basin/Anadarko Basin_final.csv\n",
      "Looking at Cherokee Basin...\n",
      "3 unprocessed files found for Cherokee Basin, concatenating them...\n",
      "Saving the file...\n"
     ]
    },
    {
     "name": "stderr",
     "output_type": "stream",
     "text": [
      "\r",
      "Processing basins:  30%|██▉       | 29/97 [58:58<3:01:27, 160.11s/it]"
     ]
    },
    {
     "name": "stdout",
     "output_type": "stream",
     "text": [
      "Final concatenated file saved for basin Cherokee Basin: /content/drive/Shared drives/Enverus US/Processed Data/Well Monthly Production with Headers and Basins concatenated by Basin/Cherokee Basin_final.csv\n",
      "Looking at Nemeha Anticline...\n",
      "1 unprocessed files found for Nemeha Anticline, concatenating them...\n",
      "Saving the file...\n"
     ]
    },
    {
     "name": "stderr",
     "output_type": "stream",
     "text": [
      "\r",
      "Processing basins:  31%|███       | 30/97 [59:10<2:17:07, 122.79s/it]"
     ]
    },
    {
     "name": "stdout",
     "output_type": "stream",
     "text": [
      "Final concatenated file saved for basin Nemeha Anticline: /content/drive/Shared drives/Enverus US/Processed Data/Well Monthly Production with Headers and Basins concatenated by Basin/Nemeha Anticline_final.csv\n",
      "Looking at Sedgwick Basin...\n",
      "1 unprocessed files found for Sedgwick Basin, concatenating them...\n",
      "Saving the file...\n"
     ]
    },
    {
     "name": "stderr",
     "output_type": "stream",
     "text": [
      "\r",
      "Processing basins:  32%|███▏      | 31/97 [59:59<1:53:38, 103.31s/it]"
     ]
    },
    {
     "name": "stdout",
     "output_type": "stream",
     "text": [
      "Final concatenated file saved for basin Sedgwick Basin: /content/drive/Shared drives/Enverus US/Processed Data/Well Monthly Production with Headers and Basins concatenated by Basin/Sedgwick Basin_final.csv\n",
      "Looking at Salina Basin...\n",
      "2 unprocessed files found for Salina Basin, concatenating them...\n",
      "Saving the file...\n"
     ]
    },
    {
     "name": "stderr",
     "output_type": "stream",
     "text": [
      "\r",
      "Processing basins:  33%|███▎      | 32/97 [1:00:01<1:21:48, 75.51s/it]"
     ]
    },
    {
     "name": "stdout",
     "output_type": "stream",
     "text": [
      "Final concatenated file saved for basin Salina Basin: /content/drive/Shared drives/Enverus US/Processed Data/Well Monthly Production with Headers and Basins concatenated by Basin/Salina Basin_final.csv\n",
      "Looking at Central Kansas Uplift...\n",
      "1 unprocessed files found for Central Kansas Uplift, concatenating them...\n",
      "Saving the file...\n"
     ]
    },
    {
     "name": "stderr",
     "output_type": "stream",
     "text": [
      "\r",
      "Processing basins:  34%|███▍      | 33/97 [1:01:23<1:22:16, 77.13s/it]"
     ]
    },
    {
     "name": "stdout",
     "output_type": "stream",
     "text": [
      "Final concatenated file saved for basin Central Kansas Uplift: /content/drive/Shared drives/Enverus US/Processed Data/Well Monthly Production with Headers and Basins concatenated by Basin/Central Kansas Uplift_final.csv\n",
      "Looking at Chadron Arch...\n",
      "1 unprocessed files found for Chadron Arch, concatenating them...\n",
      "Saving the file...\n"
     ]
    },
    {
     "name": "stderr",
     "output_type": "stream",
     "text": [
      "\r",
      "Processing basins:  35%|███▌      | 34/97 [1:01:30<1:00:05, 57.23s/it]"
     ]
    },
    {
     "name": "stdout",
     "output_type": "stream",
     "text": [
      "Final concatenated file saved for basin Chadron Arch: /content/drive/Shared drives/Enverus US/Processed Data/Well Monthly Production with Headers and Basins concatenated by Basin/Chadron Arch_final.csv\n",
      "Looking at Williston Basin...\n",
      "1 unprocessed files found for Williston Basin, concatenating them...\n",
      "Saving the file...\n"
     ]
    },
    {
     "name": "stderr",
     "output_type": "stream",
     "text": [
      "\r",
      "Processing basins:  36%|███▌      | 35/97 [1:02:49<1:05:32, 63.43s/it]"
     ]
    },
    {
     "name": "stdout",
     "output_type": "stream",
     "text": [
      "Final concatenated file saved for basin Williston Basin: /content/drive/Shared drives/Enverus US/Processed Data/Well Monthly Production with Headers and Basins concatenated by Basin/Williston Basin_final.csv\n",
      "Looking at Ouachita Folded Belt...\n",
      "10 unprocessed files found for Ouachita Folded Belt, concatenating them...\n",
      "Saving the file...\n",
      "Final concatenated file saved for basin Ouachita Folded Belt: /content/drive/Shared drives/Enverus US/Processed Data/Well Monthly Production with Headers and Basins concatenated by Basin/Ouachita Folded Belt_final.csv\n",
      "Looking at Kerr Basin...\n",
      "4 unprocessed files found for Kerr Basin, concatenating them...\n",
      "Saving the file...\n"
     ]
    },
    {
     "name": "stderr",
     "output_type": "stream",
     "text": [
      "\r",
      "Processing basins:  38%|███▊      | 37/97 [1:03:27<39:31, 39.53s/it]"
     ]
    },
    {
     "name": "stdout",
     "output_type": "stream",
     "text": [
      "Final concatenated file saved for basin Kerr Basin: /content/drive/Shared drives/Enverus US/Processed Data/Well Monthly Production with Headers and Basins concatenated by Basin/Kerr Basin_final.csv\n",
      "Looking at Llano Uplift...\n",
      "1 unprocessed files found for Llano Uplift, concatenating them...\n",
      "Saving the file...\n"
     ]
    },
    {
     "name": "stderr",
     "output_type": "stream",
     "text": [
      "\r",
      "Processing basins:  39%|███▉      | 38/97 [1:03:28<27:42, 28.17s/it]"
     ]
    },
    {
     "name": "stdout",
     "output_type": "stream",
     "text": [
      "Final concatenated file saved for basin Llano Uplift: /content/drive/Shared drives/Enverus US/Processed Data/Well Monthly Production with Headers and Basins concatenated by Basin/Llano Uplift_final.csv\n",
      "Looking at Strawn Basin...\n",
      "7 unprocessed files found for Strawn Basin, concatenating them...\n",
      "Saving the file...\n"
     ]
    },
    {
     "name": "stderr",
     "output_type": "stream",
     "text": [
      "\r",
      "Processing basins:  40%|████      | 39/97 [1:03:50<25:32, 26.42s/it]"
     ]
    },
    {
     "name": "stdout",
     "output_type": "stream",
     "text": [
      "Final concatenated file saved for basin Strawn Basin: /content/drive/Shared drives/Enverus US/Processed Data/Well Monthly Production with Headers and Basins concatenated by Basin/Strawn Basin_final.csv\n",
      "Looking at Fort Worth Syncline...\n",
      "7 unprocessed files found for Fort Worth Syncline, concatenating them...\n",
      "Saving the file...\n"
     ]
    },
    {
     "name": "stderr",
     "output_type": "stream",
     "text": [
      "\r",
      "Processing basins:  41%|████      | 40/97 [1:05:43<49:37, 52.24s/it]"
     ]
    },
    {
     "name": "stdout",
     "output_type": "stream",
     "text": [
      "Final concatenated file saved for basin Fort Worth Syncline: /content/drive/Shared drives/Enverus US/Processed Data/Well Monthly Production with Headers and Basins concatenated by Basin/Fort Worth Syncline_final.csv\n",
      "Looking at Bend Arch...\n",
      "8 unprocessed files found for Bend Arch, concatenating them...\n",
      "Saving the file...\n"
     ]
    },
    {
     "name": "stderr",
     "output_type": "stream",
     "text": [
      "\r",
      "Processing basins:  42%|████▏     | 41/97 [1:08:45<1:24:48, 90.87s/it]"
     ]
    },
    {
     "name": "stdout",
     "output_type": "stream",
     "text": [
      "Final concatenated file saved for basin Bend Arch: /content/drive/Shared drives/Enverus US/Processed Data/Well Monthly Production with Headers and Basins concatenated by Basin/Bend Arch_final.csv\n",
      "Looking at Permian Basin...\n",
      "9 unprocessed files found for Permian Basin, concatenating them...\n",
      "Saving the file...\n"
     ]
    },
    {
     "name": "stderr",
     "output_type": "stream",
     "text": [
      "\r",
      "Processing basins:  43%|████▎     | 42/97 [1:30:09<6:50:31, 447.85s/it]"
     ]
    },
    {
     "name": "stdout",
     "output_type": "stream",
     "text": [
      "Final concatenated file saved for basin Permian Basin: /content/drive/Shared drives/Enverus US/Processed Data/Well Monthly Production with Headers and Basins concatenated by Basin/Permian Basin_final.csv\n",
      "Looking at Palo Duro Basin...\n",
      "9 unprocessed files found for Palo Duro Basin, concatenating them...\n",
      "Saving the file...\n"
     ]
    },
    {
     "name": "stderr",
     "output_type": "stream",
     "text": [
      "\r",
      "Processing basins:  44%|████▍     | 43/97 [1:32:22<5:18:22, 353.75s/it]"
     ]
    },
    {
     "name": "stdout",
     "output_type": "stream",
     "text": [
      "Final concatenated file saved for basin Palo Duro Basin: /content/drive/Shared drives/Enverus US/Processed Data/Well Monthly Production with Headers and Basins concatenated by Basin/Palo Duro Basin_final.csv\n",
      "Looking at Sierra Grande Uplift...\n",
      "1 unprocessed files found for Sierra Grande Uplift, concatenating them...\n",
      "Saving the file...\n"
     ]
    },
    {
     "name": "stderr",
     "output_type": "stream",
     "text": [
      "\r",
      "Processing basins:  45%|████▌     | 44/97 [1:32:25<3:39:40, 248.70s/it]"
     ]
    },
    {
     "name": "stdout",
     "output_type": "stream",
     "text": [
      "Final concatenated file saved for basin Sierra Grande Uplift: /content/drive/Shared drives/Enverus US/Processed Data/Well Monthly Production with Headers and Basins concatenated by Basin/Sierra Grande Uplift_final.csv\n",
      "Looking at Las Animas Arch...\n",
      "2 unprocessed files found for Las Animas Arch, concatenating them...\n",
      "Saving the file...\n"
     ]
    },
    {
     "name": "stderr",
     "output_type": "stream",
     "text": [
      "\r",
      "Processing basins:  46%|████▋     | 45/97 [1:32:39<2:34:31, 178.31s/it]"
     ]
    },
    {
     "name": "stdout",
     "output_type": "stream",
     "text": [
      "Final concatenated file saved for basin Las Animas Arch: /content/drive/Shared drives/Enverus US/Processed Data/Well Monthly Production with Headers and Basins concatenated by Basin/Las Animas Arch_final.csv\n",
      "Looking at Las Vegas-Raton Basin...\n",
      "2 unprocessed files found for Las Vegas-Raton Basin, concatenating them...\n",
      "Saving the file...\n"
     ]
    },
    {
     "name": "stderr",
     "output_type": "stream",
     "text": [
      "\r",
      "Processing basins:  47%|████▋     | 46/97 [1:32:52<1:49:16, 128.56s/it]"
     ]
    },
    {
     "name": "stdout",
     "output_type": "stream",
     "text": [
      "Final concatenated file saved for basin Las Vegas-Raton Basin: /content/drive/Shared drives/Enverus US/Processed Data/Well Monthly Production with Headers and Basins concatenated by Basin/Las Vegas-Raton Basin_final.csv\n",
      "Looking at Estancia Basin...\n",
      "1 unprocessed files found for Estancia Basin, concatenating them...\n",
      "Saving the file...\n"
     ]
    },
    {
     "name": "stderr",
     "output_type": "stream",
     "text": [
      "\r",
      "Processing basins:  48%|████▊     | 47/97 [1:32:53<1:15:15, 90.31s/it] "
     ]
    },
    {
     "name": "stdout",
     "output_type": "stream",
     "text": [
      "Final concatenated file saved for basin Estancia Basin: /content/drive/Shared drives/Enverus US/Processed Data/Well Monthly Production with Headers and Basins concatenated by Basin/Estancia Basin_final.csv\n",
      "Looking at Orogrande Basin...\n",
      "1 unprocessed files found for Orogrande Basin, concatenating them...\n",
      "Saving the file...\n"
     ]
    },
    {
     "name": "stderr",
     "output_type": "stream",
     "text": [
      "\r",
      "Processing basins:  49%|████▉     | 48/97 [1:32:53<51:50, 63.47s/it]  "
     ]
    },
    {
     "name": "stdout",
     "output_type": "stream",
     "text": [
      "Final concatenated file saved for basin Orogrande Basin: /content/drive/Shared drives/Enverus US/Processed Data/Well Monthly Production with Headers and Basins concatenated by Basin/Orogrande Basin_final.csv\n",
      "Looking at Pedregosa Basin...\n",
      "No unprocessed files found for basin: Pedregosa Basin\n",
      "Looking at Basin-And-Range Province...\n",
      "No unprocessed files found for basin: Basin-And-Range Province\n",
      "Looking at Sweetgrass Arch...\n",
      "1 unprocessed files found for Sweetgrass Arch, concatenating them...\n",
      "Saving the file...\n"
     ]
    },
    {
     "name": "stderr",
     "output_type": "stream",
     "text": [
      "\r",
      "Processing basins:  53%|█████▎    | 51/97 [1:33:14<24:11, 31.55s/it]"
     ]
    },
    {
     "name": "stdout",
     "output_type": "stream",
     "text": [
      "Final concatenated file saved for basin Sweetgrass Arch: /content/drive/Shared drives/Enverus US/Processed Data/Well Monthly Production with Headers and Basins concatenated by Basin/Sweetgrass Arch_final.csv\n",
      "Looking at North Western Overthrust...\n",
      "No unprocessed files found for basin: North Western Overthrust\n",
      "Looking at Montana Folded Belt...\n",
      "1 unprocessed files found for Montana Folded Belt, concatenating them...\n",
      "Saving the file...\n"
     ]
    },
    {
     "name": "stderr",
     "output_type": "stream",
     "text": [
      "\r",
      "Processing basins:  55%|█████▍    | 53/97 [1:33:14<15:10, 20.68s/it]"
     ]
    },
    {
     "name": "stdout",
     "output_type": "stream",
     "text": [
      "Final concatenated file saved for basin Montana Folded Belt: /content/drive/Shared drives/Enverus US/Processed Data/Well Monthly Production with Headers and Basins concatenated by Basin/Montana Folded Belt_final.csv\n",
      "Looking at Central Western Overthrust...\n",
      "2 unprocessed files found for Central Western Overthrust, concatenating them...\n",
      "Saving the file...\n"
     ]
    },
    {
     "name": "stderr",
     "output_type": "stream",
     "text": [
      "\r",
      "Processing basins:  56%|█████▌    | 54/97 [1:33:25<13:20, 18.61s/it]"
     ]
    },
    {
     "name": "stdout",
     "output_type": "stream",
     "text": [
      "Saving the file...\n"
     ]
    },
    {
     "name": "stderr",
     "output_type": "stream",
     "text": [
      "\r",
      "Processing basins:  57%|█████▋    | 55/97 [1:33:25<10:16, 14.67s/it]"
     ]
    },
    {
     "name": "stdout",
     "output_type": "stream",
     "text": [
      "Final concatenated file saved for basin South Western Overthrust: /content/drive/Shared drives/Enverus US/Processed Data/Well Monthly Production with Headers and Basins concatenated by Basin/South Western Overthrust_final.csv\n",
      "Looking at Central Montana Uplift...\n",
      "1 unprocessed files found for Central Montana Uplift, concatenating them...\n",
      "Saving the file...\n"
     ]
    },
    {
     "name": "stderr",
     "output_type": "stream",
     "text": [
      "\r",
      "Processing basins:  58%|█████▊    | 56/97 [1:33:32<08:40, 12.70s/it]"
     ]
    },
    {
     "name": "stdout",
     "output_type": "stream",
     "text": [
      "Final concatenated file saved for basin Central Montana Uplift: /content/drive/Shared drives/Enverus US/Processed Data/Well Monthly Production with Headers and Basins concatenated by Basin/Central Montana Uplift_final.csv\n",
      "Looking at Powder River Basin...\n",
      "2 unprocessed files found for Powder River Basin, concatenating them...\n",
      "Saving the file...\n"
     ]
    },
    {
     "name": "stderr",
     "output_type": "stream",
     "text": [
      "\r",
      "Processing basins:  59%|█████▉    | 57/97 [1:34:51<19:41, 29.54s/it]"
     ]
    },
    {
     "name": "stdout",
     "output_type": "stream",
     "text": [
      "Final concatenated file saved for basin Powder River Basin: /content/drive/Shared drives/Enverus US/Processed Data/Well Monthly Production with Headers and Basins concatenated by Basin/Powder River Basin_final.csv\n",
      "Looking at Big Horn Basin...\n",
      "2 unprocessed files found for Big Horn Basin, concatenating them...\n",
      "Saving the file...\n"
     ]
    },
    {
     "name": "stderr",
     "output_type": "stream",
     "text": [
      "\r",
      "Processing basins:  60%|█████▉    | 58/97 [1:35:13<18:03, 27.78s/it]"
     ]
    },
    {
     "name": "stdout",
     "output_type": "stream",
     "text": [
      "Final concatenated file saved for basin Big Horn Basin: /content/drive/Shared drives/Enverus US/Processed Data/Well Monthly Production with Headers and Basins concatenated by Basin/Big Horn Basin_final.csv\n",
      "Looking at Yellowstone Province...\n",
      "No unprocessed files found for basin: Yellowstone Province\n",
      "Looking at Wind River Basin...\n",
      "1 unprocessed files found for Wind River Basin, concatenating them...\n",
      "Saving the file...\n"
     ]
    },
    {
     "name": "stderr",
     "output_type": "stream",
     "text": [
      "\r",
      "Processing basins:  62%|██████▏   | 60/97 [1:35:33<12:16, 19.91s/it]"
     ]
    },
    {
     "name": "stdout",
     "output_type": "stream",
     "text": [
      "Final concatenated file saved for basin Wind River Basin: /content/drive/Shared drives/Enverus US/Processed Data/Well Monthly Production with Headers and Basins concatenated by Basin/Wind River Basin_final.csv\n",
      "Looking at Green River Basin...\n",
      "2 unprocessed files found for Green River Basin, concatenating them...\n",
      "Saving the file...\n"
     ]
    },
    {
     "name": "stderr",
     "output_type": "stream",
     "text": [
      "\r",
      "Processing basins:  63%|██████▎   | 61/97 [1:36:16<15:15, 25.42s/it]"
     ]
    },
    {
     "name": "stdout",
     "output_type": "stream",
     "text": [
      "Final concatenated file saved for basin Green River Basin: /content/drive/Shared drives/Enverus US/Processed Data/Well Monthly Production with Headers and Basins concatenated by Basin/Green River Basin_final.csv\n",
      "Looking at Denver Basin...\n",
      "3 unprocessed files found for Denver Basin, concatenating them...\n",
      "Saving the file...\n"
     ]
    },
    {
     "name": "stderr",
     "output_type": "stream",
     "text": [
      "\r",
      "Processing basins:  64%|██████▍   | 62/97 [1:38:02<26:41, 45.75s/it]"
     ]
    },
    {
     "name": "stdout",
     "output_type": "stream",
     "text": [
      "Final concatenated file saved for basin Denver Basin: /content/drive/Shared drives/Enverus US/Processed Data/Well Monthly Production with Headers and Basins concatenated by Basin/Denver Basin_final.csv\n",
      "Looking at North Park Basin...\n",
      "1 unprocessed files found for North Park Basin, concatenating them...\n",
      "Saving the file...\n"
     ]
    },
    {
     "name": "stderr",
     "output_type": "stream",
     "text": [
      "\r",
      "Processing basins:  65%|██████▍   | 63/97 [1:38:03<19:14, 33.96s/it]"
     ]
    },
    {
     "name": "stdout",
     "output_type": "stream",
     "text": [
      "Final concatenated file saved for basin North Park Basin: /content/drive/Shared drives/Enverus US/Processed Data/Well Monthly Production with Headers and Basins concatenated by Basin/North Park Basin_final.csv\n",
      "Looking at South Park Basin...\n",
      "No unprocessed files found for basin: South Park Basin\n",
      "Looking at Eagle Basin...\n",
      "No unprocessed files found for basin: Eagle Basin\n",
      "Looking at San Luis Basin...\n",
      "1 unprocessed files found for San Luis Basin, concatenating them...\n",
      "Saving the file...\n"
     ]
    },
    {
     "name": "stderr",
     "output_type": "stream",
     "text": [
      "\r",
      "Processing basins:  68%|██████▊   | 66/97 [1:38:04<08:16, 16.01s/it]"
     ]
    },
    {
     "name": "stdout",
     "output_type": "stream",
     "text": [
      "Final concatenated file saved for basin San Luis Basin: /content/drive/Shared drives/Enverus US/Processed Data/Well Monthly Production with Headers and Basins concatenated by Basin/San Luis Basin_final.csv\n",
      "Looking at San Juan Mountains Prov...\n",
      "No unprocessed files found for basin: San Juan Mountains Prov\n",
      "Looking at Uinta Basin...\n",
      "1 unprocessed files found for Uinta Basin, concatenating them...\n",
      "Saving the file...\n"
     ]
    },
    {
     "name": "stderr",
     "output_type": "stream",
     "text": [
      "\r",
      "Processing basins:  70%|███████   | 68/97 [1:38:42<08:12, 16.99s/it]"
     ]
    },
    {
     "name": "stdout",
     "output_type": "stream",
     "text": [
      "Final concatenated file saved for basin Uinta Basin: /content/drive/Shared drives/Enverus US/Processed Data/Well Monthly Production with Headers and Basins concatenated by Basin/Uinta Basin_final.csv\n",
      "Looking at San Juan Basin...\n",
      "2 unprocessed files found for San Juan Basin, concatenating them...\n",
      "Saving the file...\n"
     ]
    },
    {
     "name": "stderr",
     "output_type": "stream",
     "text": [
      "\r",
      "Processing basins:  71%|███████   | 69/97 [1:41:17<20:25, 43.78s/it]"
     ]
    },
    {
     "name": "stdout",
     "output_type": "stream",
     "text": [
      "Final concatenated file saved for basin San Juan Basin: /content/drive/Shared drives/Enverus US/Processed Data/Well Monthly Production with Headers and Basins concatenated by Basin/San Juan Basin_final.csv\n",
      "Looking at Paradox Basin...\n",
      "2 unprocessed files found for Paradox Basin, concatenating them...\n",
      "Saving the file...\n"
     ]
    },
    {
     "name": "stderr",
     "output_type": "stream",
     "text": [
      "\r",
      "Processing basins:  72%|███████▏  | 70/97 [1:41:27<16:26, 36.52s/it]"
     ]
    },
    {
     "name": "stdout",
     "output_type": "stream",
     "text": [
      "Final concatenated file saved for basin Paradox Basin: /content/drive/Shared drives/Enverus US/Processed Data/Well Monthly Production with Headers and Basins concatenated by Basin/Paradox Basin_final.csv\n",
      "Looking at Black Mesa Basin...\n",
      "1 unprocessed files found for Black Mesa Basin, concatenating them...\n",
      "Saving the file...\n"
     ]
    },
    {
     "name": "stderr",
     "output_type": "stream",
     "text": [
      "\r",
      "Processing basins:  73%|███████▎  | 71/97 [1:41:29<12:16, 28.32s/it]"
     ]
    },
    {
     "name": "stdout",
     "output_type": "stream",
     "text": [
      "Final concatenated file saved for basin Black Mesa Basin: /content/drive/Shared drives/Enverus US/Processed Data/Well Monthly Production with Headers and Basins concatenated by Basin/Black Mesa Basin_final.csv\n",
      "Looking at Piceance Basin...\n",
      "1 unprocessed files found for Piceance Basin, concatenating them...\n",
      "Saving the file...\n"
     ]
    },
    {
     "name": "stderr",
     "output_type": "stream",
     "text": [
      "\r",
      "Processing basins:  74%|███████▍  | 72/97 [1:42:15<13:37, 32.70s/it]"
     ]
    },
    {
     "name": "stdout",
     "output_type": "stream",
     "text": [
      "Final concatenated file saved for basin Piceance Basin: /content/drive/Shared drives/Enverus US/Processed Data/Well Monthly Production with Headers and Basins concatenated by Basin/Piceance Basin_final.csv\n",
      "Looking at N. Cascades-Okanagan Prov...\n",
      "No unprocessed files found for basin: N. Cascades-Okanagan Prov\n",
      "Looking at Eastern Columbia Basin...\n",
      "No unprocessed files found for basin: Eastern Columbia Basin\n",
      "Looking at Idaho Mountains Province...\n",
      "No unprocessed files found for basin: Idaho Mountains Province\n",
      "Looking at Snake River Basin...\n",
      "No unprocessed files found for basin: Snake River Basin\n",
      "Looking at Southern Oregon Basin...\n",
      "No unprocessed files found for basin: Southern Oregon Basin\n",
      "Looking at Great Basin Province...\n",
      "1 unprocessed files found for Great Basin Province, concatenating them...\n",
      "Saving the file...\n"
     ]
    },
    {
     "name": "stderr",
     "output_type": "stream",
     "text": [
      "\r",
      "Processing basins:  80%|████████  | 78/97 [1:42:16<03:18, 10.46s/it]"
     ]
    },
    {
     "name": "stdout",
     "output_type": "stream",
     "text": [
      "Final concatenated file saved for basin Great Basin Province: /content/drive/Shared drives/Enverus US/Processed Data/Well Monthly Production with Headers and Basins concatenated by Basin/Great Basin Province_final.csv\n",
      "Looking at Overthrust&Wasatch Uplift...\n",
      "1 unprocessed files found for Overthrust&Wasatch Uplift, concatenating them...\n",
      "Saving the file...\n"
     ]
    },
    {
     "name": "stderr",
     "output_type": "stream",
     "text": [
      "\r",
      "Processing basins:  81%|████████▏ | 79/97 [1:42:17<02:44,  9.15s/it]"
     ]
    },
    {
     "name": "stdout",
     "output_type": "stream",
     "text": [
      "Final concatenated file saved for basin Overthrust&Wasatch Uplift: /content/drive/Shared drives/Enverus US/Processed Data/Well Monthly Production with Headers and Basins concatenated by Basin/Overthrust&Wasatch Uplift_final.csv\n",
      "Looking at Plateau Sedimentary Prov...\n",
      "No unprocessed files found for basin: Plateau Sedimentary Prov\n",
      "Looking at Mojave Basin...\n",
      "1 unprocessed files found for Mojave Basin, concatenating them...\n",
      "Saving the file...\n"
     ]
    },
    {
     "name": "stderr",
     "output_type": "stream",
     "text": [
      "\r",
      "Processing basins:  84%|████████▎ | 81/97 [1:42:18<01:46,  6.63s/it]"
     ]
    },
    {
     "name": "stdout",
     "output_type": "stream",
     "text": [
      "Final concatenated file saved for basin Mojave Basin: /content/drive/Shared drives/Enverus US/Processed Data/Well Monthly Production with Headers and Basins concatenated by Basin/Mojave Basin_final.csv\n",
      "Looking at Salton Basin...\n",
      "1 unprocessed files found for Salton Basin, concatenating them...\n",
      "Saving the file...\n"
     ]
    },
    {
     "name": "stderr",
     "output_type": "stream",
     "text": [
      "\r",
      "Processing basins:  85%|████████▍ | 82/97 [1:42:18<01:24,  5.60s/it]"
     ]
    },
    {
     "name": "stdout",
     "output_type": "stream",
     "text": [
      "Final concatenated file saved for basin Salton Basin: /content/drive/Shared drives/Enverus US/Processed Data/Well Monthly Production with Headers and Basins concatenated by Basin/Salton Basin_final.csv\n",
      "Looking at Sierra Nevada Province...\n",
      "1 unprocessed files found for Sierra Nevada Province, concatenating them...\n",
      "Saving the file...\n"
     ]
    },
    {
     "name": "stderr",
     "output_type": "stream",
     "text": [
      "\r",
      "Processing basins:  86%|████████▌ | 83/97 [1:42:19<01:05,  4.66s/it]"
     ]
    },
    {
     "name": "stdout",
     "output_type": "stream",
     "text": [
      "Final concatenated file saved for basin Sierra Nevada Province: /content/drive/Shared drives/Enverus US/Processed Data/Well Monthly Production with Headers and Basins concatenated by Basin/Sierra Nevada Province_final.csv\n",
      "Looking at Bellingham Basin...\n",
      "No unprocessed files found for basin: Bellingham Basin\n",
      "Looking at Puget Sound Province...\n",
      "No unprocessed files found for basin: Puget Sound Province\n",
      "Looking at Western Columbia Basin...\n",
      "1 unprocessed files found for Western Columbia Basin, concatenating them...\n",
      "Saving the file...\n"
     ]
    },
    {
     "name": "stderr",
     "output_type": "stream",
     "text": [
      "\r",
      "Processing basins:  89%|████████▊ | 86/97 [1:42:20<00:28,  2.64s/it]"
     ]
    },
    {
     "name": "stdout",
     "output_type": "stream",
     "text": [
      "Final concatenated file saved for basin Western Columbia Basin: /content/drive/Shared drives/Enverus US/Processed Data/Well Monthly Production with Headers and Basins concatenated by Basin/Western Columbia Basin_final.csv\n",
      "Looking at Klamath Mountains Province...\n",
      "No unprocessed files found for basin: Klamath Mountains Province\n",
      "Looking at Eel River Basin...\n",
      "1 unprocessed files found for Eel River Basin, concatenating them...\n",
      "Saving the file...\n"
     ]
    },
    {
     "name": "stderr",
     "output_type": "stream",
     "text": [
      "\r",
      "Processing basins:  91%|█████████ | 88/97 [1:42:20<00:17,  1.96s/it]"
     ]
    },
    {
     "name": "stdout",
     "output_type": "stream",
     "text": [
      "Final concatenated file saved for basin Eel River Basin: /content/drive/Shared drives/Enverus US/Processed Data/Well Monthly Production with Headers and Basins concatenated by Basin/Eel River Basin_final.csv\n",
      "Looking at Northern Coast Range Prov...\n",
      "2 unprocessed files found for Northern Coast Range Prov, concatenating them...\n",
      "Saving the file...\n"
     ]
    },
    {
     "name": "stderr",
     "output_type": "stream",
     "text": [
      "\r",
      "Processing basins:  92%|█████████▏| 89/97 [1:42:22<00:14,  1.83s/it]"
     ]
    },
    {
     "name": "stdout",
     "output_type": "stream",
     "text": [
      "Final concatenated file saved for basin Northern Coast Range Prov: /content/drive/Shared drives/Enverus US/Processed Data/Well Monthly Production with Headers and Basins concatenated by Basin/Northern Coast Range Prov_final.csv\n",
      "Looking at Sacramento Basin...\n",
      "2 unprocessed files found for Sacramento Basin, concatenating them...\n",
      "Saving the file...\n"
     ]
    },
    {
     "name": "stderr",
     "output_type": "stream",
     "text": [
      "\r",
      "Processing basins:  93%|█████████▎| 90/97 [1:42:32<00:24,  3.52s/it]"
     ]
    },
    {
     "name": "stdout",
     "output_type": "stream",
     "text": [
      "Final concatenated file saved for basin Sacramento Basin: /content/drive/Shared drives/Enverus US/Processed Data/Well Monthly Production with Headers and Basins concatenated by Basin/Sacramento Basin_final.csv\n",
      "Looking at Santa Cruz Basin...\n",
      "1 unprocessed files found for Santa Cruz Basin, concatenating them...\n",
      "Saving the file...\n"
     ]
    },
    {
     "name": "stderr",
     "output_type": "stream",
     "text": [
      "\r",
      "Processing basins:  94%|█████████▍| 91/97 [1:42:32<00:17,  2.86s/it]"
     ]
    },
    {
     "name": "stdout",
     "output_type": "stream",
     "text": [
      "Final concatenated file saved for basin Santa Cruz Basin: /content/drive/Shared drives/Enverus US/Processed Data/Well Monthly Production with Headers and Basins concatenated by Basin/Santa Cruz Basin_final.csv\n",
      "Looking at Coastal Basins...\n",
      "2 unprocessed files found for Coastal Basins, concatenating them...\n",
      "Saving the file...\n"
     ]
    },
    {
     "name": "stderr",
     "output_type": "stream",
     "text": [
      "\r",
      "Processing basins:  95%|█████████▍| 92/97 [1:42:38<00:17,  3.48s/it]"
     ]
    },
    {
     "name": "stdout",
     "output_type": "stream",
     "text": [
      "Final concatenated file saved for basin Coastal Basins: /content/drive/Shared drives/Enverus US/Processed Data/Well Monthly Production with Headers and Basins concatenated by Basin/Coastal Basins_final.csv\n",
      "Looking at San Joaquin Basin...\n",
      "2 unprocessed files found for San Joaquin Basin, concatenating them...\n",
      "Saving the file...\n",
      "Final concatenated file saved for basin San Joaquin Basin: /content/drive/Shared drives/Enverus US/Processed Data/Well Monthly Production with Headers and Basins concatenated by Basin/San Joaquin Basin_final.csv\n"
     ]
    },
    {
     "name": "stderr",
     "output_type": "stream",
     "text": [
      "\r",
      "Processing basins:  96%|█████████▌| 93/97 [1:46:51<04:31, 67.77s/it]"
     ]
    },
    {
     "name": "stdout",
     "output_type": "stream",
     "text": [
      "Looking at Santa Maria Basin...\n",
      "2 unprocessed files found for Santa Maria Basin, concatenating them...\n",
      "Saving the file...\n"
     ]
    },
    {
     "name": "stderr",
     "output_type": "stream",
     "text": [
      "\r",
      "Processing basins:  97%|█████████▋| 94/97 [1:46:59<02:35, 51.68s/it]"
     ]
    },
    {
     "name": "stdout",
     "output_type": "stream",
     "text": [
      "Final concatenated file saved for basin Santa Maria Basin: /content/drive/Shared drives/Enverus US/Processed Data/Well Monthly Production with Headers and Basins concatenated by Basin/Santa Maria Basin_final.csv\n",
      "Looking at Ventura Basin...\n",
      "1 unprocessed files found for Ventura Basin, concatenating them...\n",
      "Saving the file...\n"
     ]
    },
    {
     "name": "stderr",
     "output_type": "stream",
     "text": [
      "\r",
      "Processing basins:  98%|█████████▊| 95/97 [1:47:27<01:30, 45.18s/it]"
     ]
    },
    {
     "name": "stdout",
     "output_type": "stream",
     "text": [
      "Final concatenated file saved for basin Ventura Basin: /content/drive/Shared drives/Enverus US/Processed Data/Well Monthly Production with Headers and Basins concatenated by Basin/Ventura Basin_final.csv\n",
      "Looking at Los Angeles Basin...\n",
      "1 unprocessed files found for Los Angeles Basin, concatenating them...\n",
      "Saving the file...\n"
     ]
    },
    {
     "name": "stderr",
     "output_type": "stream",
     "text": [
      "Processing basins: 100%|██████████| 97/97 [1:48:00<00:00, 66.81s/it]"
     ]
    },
    {
     "name": "stdout",
     "output_type": "stream",
     "text": [
      "Final concatenated file saved for basin Los Angeles Basin: /content/drive/Shared drives/Enverus US/Processed Data/Well Monthly Production with Headers and Basins concatenated by Basin/Los Angeles Basin_final.csv\n",
      "Looking at Capistrano Basin...\n",
      "No unprocessed files found for basin: Capistrano Basin\n",
      "All basins processed.\n"
     ]
    },
    {
     "name": "stderr",
     "output_type": "stream",
     "text": [
      "\n"
     ]
    }
   ],
   "source": [
    "processed_files = []\n",
    "\n",
    "# Run the function once\n",
    "processed_files = concat_by_basin(split_output_folder, final_output_folder, basin_gdf, processed_files)\n"
   ]
  },
  {
   "cell_type": "code",
   "execution_count": null,
   "metadata": {
    "id": "bUL5i059v3l4"
   },
   "outputs": [],
   "source": []
  }
 ],
 "metadata": {
  "colab": {
   "authorship_tag": "ABX9TyP7jiK7n/K7/OLw/wPPyIFi",
   "provenance": []
  },
  "kernelspec": {
   "display_name": "Python 3 (ipykernel)",
   "language": "python",
   "name": "python3"
  },
  "language_info": {
   "codemirror_mode": {
    "name": "ipython",
    "version": 3
   },
   "file_extension": ".py",
   "mimetype": "text/x-python",
   "name": "python",
   "nbconvert_exporter": "python",
   "pygments_lexer": "ipython3",
   "version": "3.9.6"
  }
 },
 "nbformat": 4,
 "nbformat_minor": 4
}
